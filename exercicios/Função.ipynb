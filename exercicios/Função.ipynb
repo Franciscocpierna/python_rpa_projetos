{
 "cells": [
  {
   "cell_type": "code",
   "execution_count": 3,
   "id": "dc524ff1-c0aa-429d-9de9-c016ee69e5bc",
   "metadata": {},
   "outputs": [
    {
     "name": "stdout",
     "output_type": "stream",
     "text": [
      "A soma é: 57\n"
     ]
    }
   ],
   "source": [
    "\"\"\"\n",
    "1. Função de Soma\n",
    "\n",
    "Crie uma função chamada somar que receba dois números como parâmetros e \n",
    "    retorne a soma deles. Depois, chame essa função passando dois \n",
    "    valores e exiba o resultado.\n",
    "\"\"\"\n",
    "\n",
    "# Define a função 'somar' que aceita dois parâmetros: 'a' e 'b'.\n",
    "# Estes parâmetros representam os números que serão somados.\n",
    "def somar(a, b):\n",
    "    \n",
    "    # Retorna a soma dos parâmetros 'a' e 'b'.\n",
    "    # O operador '+' é usado para adicionar os dois números.\n",
    "    return a + b\n",
    "\n",
    "# Chama a função 'somar', passando os números 5 e 7 \n",
    "        # como argumentos.\n",
    "# O resultado da função, que é a soma de 5 e 7, é \n",
    "        # armazenado na variável 'resultado'.\n",
    "resultado = somar(50, 7)\n",
    "\n",
    "# Imprime o resultado da função 'somar'.\n",
    "# Usa uma f-string para incluir o valor da \n",
    "        # variável 'resultado' na string que será exibida.\n",
    "print(f\"A soma é: {resultado}\")"
   ]
  },
  {
   "cell_type": "code",
   "execution_count": null,
   "id": "a229f9f1-8b52-448a-a847-41ed7174e42a",
   "metadata": {},
   "outputs": [],
   "source": []
  },
  {
   "cell_type": "code",
   "execution_count": 10,
   "id": "e87677ff-47a1-4fbe-af22-0d2837b1697c",
   "metadata": {},
   "outputs": [
    {
     "name": "stdout",
     "output_type": "stream",
     "text": [
      "O número é: Par\n"
     ]
    }
   ],
   "source": [
    "\"\"\"\n",
    "2. Função de Verificação de Par ou Ímpar\n",
    "\n",
    "Crie uma função chamada par_ou_impar que receba um número \n",
    "como parâmetro e retorne se ele é \"Par\" ou \"Ímpar\".\n",
    "\"\"\"\n",
    "\n",
    "# Define a função 'par_ou_impar' que recebe um único \n",
    "        # parâmetro chamado 'numero'.\n",
    "# Essa função é destinada a determinar se o número \n",
    "        # fornecido é par ou ímpar.\n",
    "def par_ou_impar(numero):\n",
    "    \n",
    "    # Usa o operador de módulo (%) para verificar o \n",
    "            # resto da divisão do 'numero' por 2.\n",
    "    # Se o resultado é 0, então o número é par.\n",
    "    if numero % 2 == 0:\n",
    "        return \"Par\"\n",
    "    else:\n",
    "        \n",
    "        # Se o resultado não é 0, então o número é ímpar.\n",
    "        return \"Ímpar\"\n",
    "\n",
    "# Chama a função 'par_ou_impar', passando o número 10 \n",
    "        # como argumento.\n",
    "# O resultado da função, que determina se 10 é \"Par\" \n",
    "        # ou \"Ímpar\", é armazenado na variável 'resultado'.\n",
    "resultado = par_ou_impar(10)\n",
    "\n",
    "# Imprime o resultado da função.\n",
    "# A f-string é usada para incluir o valor de 'resultado' \n",
    "        # dentro da mensagem que será exibida ao usuário.\n",
    "print(f\"O número é: {resultado}\")"
   ]
  },
  {
   "cell_type": "code",
   "execution_count": null,
   "id": "cffade4d-acb8-40d5-bada-863c9e22234e",
   "metadata": {},
   "outputs": [],
   "source": []
  },
  {
   "cell_type": "code",
   "execution_count": 15,
   "id": "0043a63e-620c-46b4-930b-7251749da07d",
   "metadata": {},
   "outputs": [
    {
     "name": "stdout",
     "output_type": "stream",
     "text": [
      "O fatorial é: 120\n"
     ]
    }
   ],
   "source": [
    "\"\"\"\n",
    "3. Função de Fatorial\n",
    "\n",
    "Crie uma função chamada fatorial que receba um número \n",
    "inteiro positivo e retorne o fatorial desse número.\n",
    "\n",
    "5 = 1 x 2 x 3 x 4 x 5 = 120\n",
    "\"\"\"\n",
    "\n",
    "# Define a função 'fatorial' que recebe um parâmetro 'n'.\n",
    "# O parâmetro 'n' deve ser um número inteiro positivo, pois o \n",
    "        # cálculo do fatorial não é definido para números negativos.\n",
    "def fatorial(n):\n",
    "    \n",
    "    # Verifica se o valor de 'n' é 0 ou 1. Estes são \n",
    "            # chamados casos base em recursão.\n",
    "    # O caso base é crucial em funções recursivas porque ele \n",
    "            # define quando a recursão deve parar.\n",
    "    # Sem um caso base adequado, a função poderia chamar a si \n",
    "            # mesma infinitamente, levando a um erro de \"recursão infinita\".\n",
    "    if n == 0 or n == 1:\n",
    "        \n",
    "        # Retorna 1 porque o fatorial de 0 é definido como 1 por \n",
    "                # convenção, e o fatorial de 1 é, trivialmente, 1.\n",
    "        return 1\n",
    "        \n",
    "    else:\n",
    "        \n",
    "        # Se 'n' não é 0 ou 1, então a função procede para o \n",
    "                # cálculo recursivo.\n",
    "        # A função chama a si mesma, 'fatorial(n - 1)', o que significa \n",
    "                # que ela solicita o fatorial do número anterior a 'n'.\n",
    "        # Este passo é chamado de passo recursivo. Ele é essencial \n",
    "                # para reduzir progressivamente o problema a algo \n",
    "                # que pode ser resolvido.\n",
    "        # Aqui, 'n * fatorial(n - 1)' realiza a multiplicação de 'n' \n",
    "                # pelo resultado da função 'fatorial' chamada com 'n - 1'.\n",
    "        # Por exemplo, se 'n' for 5, isso se expande para 5 * fatorial(4), e \n",
    "                # fatorial(4) se expande para 4 * fatorial(3), e assim por diante,\n",
    "        # até que o caso base seja atingido.\n",
    "        return n * fatorial(n - 1)\n",
    "\n",
    "\n",
    "# Chama a função 'fatorial', passando o número 5 como argumento.\n",
    "# Armazena o resultado retornado pela função na variável 'resultado'.\n",
    "resultado = fatorial(5)\n",
    "\n",
    "# Imprime o resultado da função.\n",
    "# A f-string é usada para formatar a string de modo que \n",
    "        # inclua o valor da variável 'resultado'.\n",
    "print(f\"O fatorial é: {resultado}\")"
   ]
  },
  {
   "cell_type": "code",
   "execution_count": null,
   "id": "87dad94c-9f2c-473f-a91a-f007626b4abe",
   "metadata": {},
   "outputs": [],
   "source": []
  },
  {
   "cell_type": "code",
   "execution_count": 16,
   "id": "6919dcbf-da76-4d36-8afe-567c1cea1ba4",
   "metadata": {},
   "outputs": [
    {
     "name": "stdout",
     "output_type": "stream",
     "text": [
      "O número de letras é: 16\n"
     ]
    }
   ],
   "source": [
    "\"\"\"\n",
    "4. Função para Contar Letras em uma String\n",
    "\n",
    "Crie uma função chamada contar_letras que receba uma string como \n",
    "        parâmetro e retorne a quantidade de letras dessa \n",
    "        string, desconsiderando espaços.\n",
    "\"\"\"\n",
    "\n",
    "# Define a função chamada 'contar_letras', que aceita um \n",
    "        # único parâmetro chamado 'texto'.\n",
    "# Este parâmetro 'texto' é esperado para ser uma string da \n",
    "        # qual as letras serão contadas.\n",
    "def contar_letras(texto):\n",
    "    \n",
    "    # O método 'replace(\" \", \"\")' é chamado no 'texto' para \n",
    "            # remover todos os espaços em branco.\n",
    "    # Este método substitui todos os espaços (' ') por uma \n",
    "            # string vazia (''), efetivamente os eliminando.\n",
    "    # Após remover os espaços, a função 'len()' é usada para \n",
    "            # contar o número de caracteres restantes na string.\n",
    "    # Como os espaços foram removidos, 'len()' retorna o \n",
    "            # número total de letras na string.\n",
    "    return len(texto.replace(\" \", \"\"))\n",
    "\n",
    "# Chama a função 'contar_letras', passando a string \n",
    "        # \"Aprendendo Python\" como argumento.\n",
    "# Esta string inclui espaços que não serão contados \n",
    "        # conforme a lógica da função.\n",
    "resultado = contar_letras(\"Aprendendo Python\")\n",
    "\n",
    "# Imprime o resultado, que é o número de letras na \n",
    "        # string sem contar os espaços.\n",
    "# A f-string é usada para formatar a mensagem de modo que \n",
    "        # inclua o número calculado de letras.\n",
    "print(f\"O número de letras é: {resultado}\")"
   ]
  },
  {
   "cell_type": "code",
   "execution_count": null,
   "id": "fa3519d6-b558-4b31-b5e0-0e47e9d1570e",
   "metadata": {},
   "outputs": [],
   "source": []
  },
  {
   "cell_type": "code",
   "execution_count": 23,
   "id": "9c582704-e52e-40d9-9db2-e8aa38b4fa1a",
   "metadata": {},
   "outputs": [
    {
     "name": "stdout",
     "output_type": "stream",
     "text": [
      "A string invertida é: nohtyP\n"
     ]
    }
   ],
   "source": [
    "\"\"\"\n",
    "5. Função de Inversão de String\n",
    "\n",
    "Crie uma função chamada inverter_string que receba uma string \n",
    "    como parâmetro e retorne a string invertida.\n",
    "\"\"\"\n",
    "\n",
    "# Define a função chamada 'inverter_string', que \n",
    "        # recebe um parâmetro chamado 'texto'.\n",
    "# Este parâmetro 'texto' é a string que será invertida.\n",
    "def inverter_string(texto):\n",
    "    \n",
    "    # Utiliza o fatiamento de string para inverter a \n",
    "            # ordem dos caracteres.\n",
    "    # 'texto[::-1]' é uma técnica de fatiamento onde:\n",
    "    # - O primeiro ':' indica o início da string (vazio \n",
    "            # significa começar do primeiro caractere).\n",
    "    # - O segundo ':' indica o fim da string (vazio \n",
    "            # significa ir até o último caractere).\n",
    "    # - '-1' é o passo, que neste caso é negativo, indicando \n",
    "            # que o fatiamento deve ser feito de trás para frente.\n",
    "    # Esta única linha retorna a string 'texto' com os \n",
    "            # caracteres em ordem inversa.\n",
    "    return texto[::-1]\n",
    "\n",
    "# Chama a função 'inverter_string', passando \"Python\" como argumento.\n",
    "# A string \"Python\" será processada pela função, que retornará \"nohtyP\".\n",
    "resultado = inverter_string(\"Python\")\n",
    "\n",
    "# Imprime o resultado da função.\n",
    "# A f-string é utilizada para formatar a saída, incluindo a \n",
    "        # string invertida no texto exibido.\n",
    "print(f\"A string invertida é: {resultado}\")"
   ]
  },
  {
   "cell_type": "code",
   "execution_count": null,
   "id": "c2a5e987-5f50-4050-b451-942d311fbfdf",
   "metadata": {},
   "outputs": [],
   "source": []
  },
  {
   "cell_type": "code",
   "execution_count": 33,
   "id": "1d0be3c2-7552-4b9d-aabd-81e2625e3db7",
   "metadata": {},
   "outputs": [
    {
     "name": "stdout",
     "output_type": "stream",
     "text": [
      "A média é: 8.0\n"
     ]
    }
   ],
   "source": [
    "\"\"\"\n",
    "6. Função para Calcular Média\n",
    "\n",
    "Crie uma função chamada calcular_media que receba três \n",
    "notas como parâmetros e retorne a média das notas.\n",
    "\"\"\"\n",
    "\n",
    "# Define a função chamada 'calcular_media', que recebe \n",
    "        # três parâmetros: 'nota1', 'nota2', e 'nota3'.\n",
    "# Cada parâmetro corresponde a uma das três notas que \n",
    "        # serão usadas para calcular a média.\n",
    "def calcular_media(nota1, nota2, nota3):\n",
    "    \n",
    "    # Calcula a média das três notas.\n",
    "    # A soma das notas (nota1 + nota2 + nota3) é dividida \n",
    "            # por 3, o número de notas,\n",
    "            # resultando na média aritmética desses valores.\n",
    "    return (nota1 + nota2 + nota3) / 3\n",
    "\n",
    "# Chama a função 'calcular_media', passando as \n",
    "        # notas 7, 8, e 9 como argumentos.\n",
    "# Essas notas são processadas pela função, que \n",
    "        # calcula a média e retorna esse valor.\n",
    "resultado = calcular_media(7, 8, 9)\n",
    "\n",
    "# Imprime o resultado da função.\n",
    "# A f-string é usada para incluir o valor calculado da \n",
    "        # média diretamente na string exibida.\n",
    "print(f\"A média é: {resultado}\")"
   ]
  },
  {
   "cell_type": "code",
   "execution_count": null,
   "id": "0c63b3db-4b7b-4663-a9ec-4c4cdd8d5148",
   "metadata": {},
   "outputs": [],
   "source": []
  },
  {
   "cell_type": "code",
   "execution_count": 38,
   "id": "ee17c22d-6c58-4439-92d4-cc9913c7598b",
   "metadata": {},
   "outputs": [
    {
     "name": "stdout",
     "output_type": "stream",
     "text": [
      "A temperatura em Fahrenheit é: 77.0\n"
     ]
    }
   ],
   "source": [
    "\"\"\"\n",
    "7. Função para Converter Temperatura\n",
    "\n",
    "Crie uma função chamada celsius_para_fahrenheit que receba uma \n",
    "temperatura em graus Celsius e a converta para Fahrenheit.\n",
    "\"\"\"\n",
    "\n",
    "# Define a função chamada 'celsius_para_fahrenheit', \n",
    "        # que recebe um parâmetro 'celsius'.\n",
    "# Este parâmetro representa a temperatura que será \n",
    "        # convertida de graus Celsius para Fahrenheit.\n",
    "def celsius_para_fahrenheit(celsius):\n",
    "    \n",
    "    # Realiza o cálculo de conversão usando a fórmula \n",
    "            # para converter Celsius para Fahrenheit.\n",
    "    # A fórmula é: Fahrenheit = (Celsius * 9/5) + 32\n",
    "    # O termo 'celsius * 9/5' converte o valor de Celsius \n",
    "            # para uma escala equivalente em Fahrenheit.\n",
    "    # O '+ 32' ajusta o valor para a diferença entre os \n",
    "            # pontos de congelamento da água em ambas as escalas.\n",
    "    return (celsius * 9/5) + 32\n",
    "\n",
    "# Chama a função 'celsius_para_fahrenheit', passando o \n",
    "        # valor 25 como argumento.\n",
    "# O número 25 representa a temperatura em graus Celsius \n",
    "        # que será convertida para Fahrenheit.\n",
    "resultado = celsius_para_fahrenheit(25)\n",
    "\n",
    "# Imprime o resultado da conversão.\n",
    "# A f-string é usada para incluir o valor calculado \n",
    "        # diretamente na mensagem exibida, formatando-a claramente.\n",
    "print(f\"A temperatura em Fahrenheit é: {resultado}\")"
   ]
  },
  {
   "cell_type": "code",
   "execution_count": null,
   "id": "340f0a37-af58-498d-9f96-f6ec2621844b",
   "metadata": {},
   "outputs": [],
   "source": []
  },
  {
   "cell_type": "code",
   "execution_count": 46,
   "id": "b7dfb100-eaf8-4903-88b1-be325b4b1872",
   "metadata": {},
   "outputs": [
    {
     "name": "stdout",
     "output_type": "stream",
     "text": [
      "É primo? True\n"
     ]
    }
   ],
   "source": [
    "\"\"\"\n",
    "8. Função para Verificar Número Primo\n",
    "\n",
    "Crie uma função chamada eh_primo que receba um número inteiro e \n",
    "    retorne True se o número for primo e False caso contrário.\n",
    "\"\"\"\n",
    "\n",
    "# Define a função chamada 'eh_primo', que recebe um parâmetro 'numero'.\n",
    "# Esta função verifica se um número é primo.\n",
    "def eh_primo(numero):\n",
    "    \n",
    "    # Primeiro, verifica se o número é menor que 2.\n",
    "    # Por definição, números menores que 2 não são primos.\n",
    "    if numero < 2:\n",
    "        return False\n",
    "    \n",
    "    # Inicia um laço que vai de 2 até o número-1.\n",
    "    # O laço testa se o número pode ser dividido de forma \n",
    "            # igual por algum número nesse intervalo.\n",
    "    for i in range(2, numero):\n",
    "        \n",
    "        # Se o número for divisível por algum 'i', ele não é primo.\n",
    "        if numero % i == 0:\n",
    "            return False\n",
    "    \n",
    "    # Se o laço terminar sem encontrar nenhum \n",
    "            # divisor, o número é primo.\n",
    "    return True\n",
    "\n",
    "# Chama a função 'eh_primo' com o número 7.\n",
    "# Armazena o resultado retornado pela função \n",
    "        # na variável 'resultado'.\n",
    "resultado = eh_primo(7)\n",
    "\n",
    "# Imprime o resultado da função.\n",
    "# A f-string é usada para incluir o resultado da \n",
    "        # verificação na mensagem exibida.\n",
    "print(f\"É primo? {resultado}\")"
   ]
  },
  {
   "cell_type": "code",
   "execution_count": null,
   "id": "60ca312e-ae90-4ad3-aca7-44f3a8dfb723",
   "metadata": {},
   "outputs": [],
   "source": []
  },
  {
   "cell_type": "code",
   "execution_count": 3,
   "id": "63fc63bf-ce5b-456d-8bda-e2a5ba8c6f71",
   "metadata": {},
   "outputs": [
    {
     "name": "stdout",
     "output_type": "stream",
     "text": [
      "5 x 1 = 5\n",
      "5 x 2 = 10\n",
      "5 x 3 = 15\n",
      "5 x 4 = 20\n",
      "5 x 5 = 25\n",
      "5 x 6 = 30\n",
      "5 x 7 = 35\n",
      "5 x 8 = 40\n",
      "5 x 9 = 45\n",
      "5 x 10 = 50\n"
     ]
    }
   ],
   "source": [
    "\"\"\"\n",
    "9. Função para Gerar Tabuada\n",
    "\n",
    "Crie uma função chamada tabuada que receba um número e \n",
    "imprima a tabuada desse número de 1 a 10.\n",
    "\"\"\"\n",
    "\n",
    "# Define a função 'tabuada' que recebe um parâmetro 'n'.\n",
    "# Este parâmetro 'n' é o número para o qual a \n",
    "        # tabuada será calculada.\n",
    "def tabuada(n):\n",
    "    \n",
    "    # Inicia um laço de repetição usando 'for'. Este laço itera de 1 até 10.\n",
    "    # 'i' será o multiplicador na tabuada, começando em 1 e indo até 10.\n",
    "    for i in range(1, 11):\n",
    "        \n",
    "        # Dentro do laço, imprime o resultado de cada multiplicação.\n",
    "        # Usa f-string para formatar a saída de forma clara e legível.\n",
    "        # '{n} x {i}' mostra o número 'n' sendo multiplicado por 'i'.\n",
    "        # '= {n * i}' calcula e exibe o resultado da multiplicação.\n",
    "        print(f\"{n} x {i} = {n * i}\")\n",
    "\n",
    "# Chama a função 'tabuada' passando o número 5 como argumento.\n",
    "# A função irá imprimir a tabuada de 5, de 1 a 10.\n",
    "tabuada(5)"
   ]
  },
  {
   "cell_type": "code",
   "execution_count": null,
   "id": "254c0649-9439-4487-8853-fbbead41a07b",
   "metadata": {},
   "outputs": [],
   "source": []
  },
  {
   "cell_type": "code",
   "execution_count": 10,
   "id": "d33caf44-f232-4ea4-8a14-62cad10e297e",
   "metadata": {},
   "outputs": [
    {
     "name": "stdout",
     "output_type": "stream",
     "text": [
      "É palíndromo? True\n"
     ]
    }
   ],
   "source": [
    "\"\"\"\n",
    "10. Função para Verificar Palíndromo\n",
    "\n",
    "Crie uma função chamada eh_palindromo que receba uma string e retorne True se \n",
    "for um palíndromo (a palavra lida de trás para frente é igual à original) \n",
    "e False caso contrário.\n",
    "\"\"\"\n",
    "\n",
    "# Define a função 'eh_palindromo', que aceita um parâmetro 'palavra'.\n",
    "# Esta função verifica se a string fornecida é um palíndromo.\n",
    "def eh_palindromo(palavra):\n",
    "    \n",
    "    # Remove espaços da string e converte todos os \n",
    "            # caracteres para minúsculas.\n",
    "    # Isso uniformiza a string para garantir que a comparação \n",
    "            # seja feita de forma correta,\n",
    "            # ignorando diferenças de caixa e espaços.\n",
    "    palavra = palavra.replace(\" \", \"\").lower()\n",
    "    \n",
    "    # Compara a string modificada com sua versão invertida.\n",
    "    # A inversão é feita usando fatiamento de string [::-1], \n",
    "            # que lê a string de trás para frente.\n",
    "    # Retorna True se a string for igual à sua versão invertida, \n",
    "            # indicando que é um palíndromo.\n",
    "    return palavra == palavra[::-1]\n",
    "\n",
    "# Chama a função 'eh_palindromo', passando \"arara\" como argumento.\n",
    "# \"arara\" é uma palavra que se lê igual de trás para frente, \n",
    "        # portanto, é um palíndromo.\n",
    "resultado = eh_palindromo(\"arara\")\n",
    "\n",
    "# Imprime o resultado da função.\n",
    "# A f-string é usada para incluir o resultado da verificação \n",
    "        # dentro da mensagem exibida ao usuário.\n",
    "print(f\"É palíndromo? {resultado}\")"
   ]
  },
  {
   "cell_type": "code",
   "execution_count": null,
   "id": "7db4485e-26af-4c05-a800-630acdf68b1f",
   "metadata": {},
   "outputs": [],
   "source": []
  },
  {
   "cell_type": "code",
   "execution_count": 13,
   "id": "7e3c42ef-9c80-41fe-8490-1ed2538858cb",
   "metadata": {},
   "outputs": [
    {
     "name": "stdout",
     "output_type": "stream",
     "text": [
      "Resultado: 125\n"
     ]
    }
   ],
   "source": [
    "\"\"\"\n",
    "11. Função para Calcular Potência\n",
    "\n",
    "Crie uma função chamada potencia que receba dois \n",
    "        parâmetros: base e expoente. A função deve retornar a \n",
    "        base elevada ao expoente.\n",
    "\"\"\"\n",
    "\n",
    "# Define a função 'potencia', que recebe dois \n",
    "        # parâmetros: 'base' e 'expoente'.\n",
    "# Esses parâmetros representam os componentes matemáticos \n",
    "        # de uma operação de exponenciação.\n",
    "def potencia(base, expoente):\n",
    "    \n",
    "    # Retorna o resultado de elevar 'base' à potência de 'expoente'.\n",
    "    # O operador '**' em Python é usado para calcular potências.\n",
    "    return base ** expoente\n",
    "\n",
    "# Chama a função 'potencia', passando 2 como base e 3 como expoente.\n",
    "# Isso significa que estamos calculando 2 elevado à \n",
    "        # terceira potência, que é 8.\n",
    "resultado = potencia(2, 3)\n",
    "\n",
    "# Imprime o resultado da função.\n",
    "# A f-string é usada para incluir o valor calculado (resultado \n",
    "        # da potência) diretamente na mensagem exibida.\n",
    "print(f\"Resultado: {resultado}\")"
   ]
  },
  {
   "cell_type": "code",
   "execution_count": null,
   "id": "506d7693-46ec-4742-bec3-3d75f5682415",
   "metadata": {},
   "outputs": [],
   "source": []
  },
  {
   "cell_type": "code",
   "execution_count": 20,
   "id": "212907eb-fd79-4556-9ec4-500603391c38",
   "metadata": {},
   "outputs": [
    {
     "name": "stdout",
     "output_type": "stream",
     "text": [
      "1 horas, 1 minutos e 5 segundos\n"
     ]
    }
   ],
   "source": [
    "\"\"\"\n",
    "12. Função de Conversão de Segundos para Horas, Minutos e Segundos\n",
    "\n",
    "Crie uma função chamada converter_segundos que receba um número de \n",
    "segundos e converta para horas, minutos e segundos.\n",
    "\"\"\"\n",
    "\n",
    "# Define a função 'converter_segundos', que aceita um \n",
    "        # parâmetro 'segundos'.\n",
    "# Este parâmetro é o número total de segundos que será \n",
    "        # convertido em horas, minutos e segundos.\n",
    "def converter_segundos(segundos):\n",
    "    \n",
    "    # Calcula o número total de horas, dividindo o total de \n",
    "            # segundos por 3600 (número de segundos em uma hora).\n",
    "    # O operador '//' é usado para divisão inteira, o que \n",
    "            # descarta o resto e retorna apenas o número inteiro de horas.\n",
    "    horas = segundos // 3600\n",
    "    \n",
    "    # Calcula o número de minutos, primeiro obtendo o \n",
    "            # resto da divisão de segundos por 3600,\n",
    "            # o que dá os segundos que não completam uma hora, e \n",
    "            # depois dividindo por 60 para converter em minutos.\n",
    "    minutos = (segundos % 3600) // 60\n",
    "    \n",
    "    # Calcula os segundos restantes após remover as horas e \n",
    "            # minutos completos,\n",
    "    # usando o operador '%' que retorna o resto da divisão, \n",
    "            # neste caso, os segundos que sobram após \n",
    "            # calcular as horas e minutos.\n",
    "    segundos_restantes = segundos % 60\n",
    "    \n",
    "    # Retorna os valores calculados como um trio de \n",
    "            # horas, minutos e segundos.\n",
    "    return horas, minutos, segundos_restantes\n",
    "\n",
    "# Chama a função 'converter_segundos' com 3665 \n",
    "        # segundos como exemplo.\n",
    "# Essa quantidade de segundos é convertida em \n",
    "        # horas, minutos e segundos pela função.\n",
    "horas, minutos, segundos = converter_segundos(3665)\n",
    "\n",
    "# Imprime os valores convertidos formatados de forma legível.\n",
    "# Usa uma f-string para construir a string que mostra o \n",
    "        # tempo convertido em horas, minutos e segundos.\n",
    "print(f\"{horas} horas, {minutos} minutos e {segundos} segundos\")"
   ]
  },
  {
   "cell_type": "code",
   "execution_count": null,
   "id": "ea81c334-4175-461e-8413-183126555ab8",
   "metadata": {},
   "outputs": [],
   "source": []
  },
  {
   "cell_type": "code",
   "execution_count": 28,
   "id": "d87a02c6-06ba-4200-85c9-3cbeb6ed56bc",
   "metadata": {},
   "outputs": [
    {
     "name": "stdout",
     "output_type": "stream",
     "text": [
      "Número de vogais: 5\n"
     ]
    }
   ],
   "source": [
    "\"\"\"\n",
    "13. Função para Contar Vogais\n",
    "\n",
    "Crie uma função chamada contar_vogais que receba uma \n",
    "string e retorne a quantidade de vogais nela.\n",
    "\"\"\"\n",
    "\n",
    "# Define a função 'contar_vogais', que recebe um parâmetro 'texto'.\n",
    "# Este parâmetro é a string na qual as vogais serão contadas.\n",
    "def contar_vogais(texto):\n",
    "    \n",
    "    # Define uma string 'vogais' que contém todas as \n",
    "            # vogais maiúsculas e minúsculas.\n",
    "    # Isso permite a função contar vogais em casos que \n",
    "            # não são sensíveis à caixa.\n",
    "    vogais = \"aeiouAEIOU\"\n",
    "    \n",
    "    # Usa uma compreensão de lista para iterar sobre \n",
    "            # cada 'letra' em 'texto'.\n",
    "    # Para cada letra, verifica se ela está contida \n",
    "            # no conjunto de 'vogais'.\n",
    "    # A expressão '[1 for letra in texto if letra in vogais]' \n",
    "            # cria uma lista de 1's, cada um correspondendo a \n",
    "            # uma vogal encontrada no texto.\n",
    "    # A função 'sum()' então soma todos os elementos da \n",
    "            # lista, resultando no total de vogais.\n",
    "    return sum([1 for letra in texto if letra in vogais])\n",
    "\n",
    "# Chama a função 'contar_vogais' com a string \n",
    "        # \"Programação Python\" como argumento.\n",
    "# A função processa a string e retorna o número \n",
    "        # total de vogais encontradas.\n",
    "resultado = contar_vogais(\"Programação Python\")\n",
    "\n",
    "# Imprime o resultado da função.\n",
    "# A f-string é usada para formatar a saída incluindo o \n",
    "        # número calculado de vogais na mensagem exibida.\n",
    "print(f\"Número de vogais: {resultado}\")"
   ]
  },
  {
   "cell_type": "code",
   "execution_count": null,
   "id": "1a6786e5-6cf1-4541-b291-49a36a3e9096",
   "metadata": {},
   "outputs": [],
   "source": []
  },
  {
   "cell_type": "code",
   "execution_count": 32,
   "id": "a9d398f7-77a7-42e7-8eff-45a34ff24d28",
   "metadata": {},
   "outputs": [
    {
     "name": "stdout",
     "output_type": "stream",
     "text": [
      "Número de palavras: 5\n"
     ]
    }
   ],
   "source": [
    "\"\"\"\n",
    "14. Função para Contar Palavras em uma String\n",
    "\n",
    "Crie uma função chamada contar_palavras que receba uma string e \n",
    "retorne o número de palavras nela.\n",
    "\"\"\"\n",
    "\n",
    "# Define a função 'contar_palavras', que recebe um parâmetro 'texto'.\n",
    "# Este parâmetro é a string que será analisada para contar as palavras.\n",
    "def contar_palavras(texto):\n",
    "    \n",
    "    # O método 'split()' é usado para dividir a \n",
    "            # string 'texto' em uma lista de palavras.\n",
    "    # Por padrão, 'split()' divide a string em cada espaço em branco, \n",
    "            # o que inclui espaços, novas linhas e tabulações, \n",
    "            # removendo esses espaços no processo.\n",
    "    # 'len(texto.split())' então conta o número de \n",
    "            # elementos (palavras) na lista resultante.\n",
    "    return len(texto.split())\n",
    "\n",
    "# Chama a função 'contar_palavras' com a string \"Aprendendo \n",
    "        # funções em Python\" como argumento.\n",
    "# A função processa essa string e retorna o número \n",
    "        # total de palavras contidas.\n",
    "resultado = contar_palavras(\"Aprendendo funções em Python\")\n",
    "\n",
    "# Imprime o resultado da função.\n",
    "# A f-string é usada para formatar a saída incluindo o \n",
    "        # número calculado de palavras na mensagem exibida.\n",
    "print(f\"Número de palavras: {resultado}\")"
   ]
  },
  {
   "cell_type": "code",
   "execution_count": null,
   "id": "c14b0f12-d9ba-4694-bcc3-07d81f75aa61",
   "metadata": {},
   "outputs": [],
   "source": []
  },
  {
   "cell_type": "code",
   "execution_count": 35,
   "id": "eb36e2cb-69b2-4808-9efc-f9c9447d082d",
   "metadata": {},
   "outputs": [
    {
     "name": "stdout",
     "output_type": "stream",
     "text": [
      "Lista ordenada: [1, 3, 5, 8, 9]\n"
     ]
    }
   ],
   "source": [
    "\"\"\"\n",
    "15. Função para Ordenar uma Lista\n",
    "\n",
    "Crie uma função chamada ordenar_lista que receba uma lista de \n",
    "números e retorne a lista ordenada.\n",
    "\"\"\"\n",
    "\n",
    "# Define a função 'ordenar_lista', que aceita um parâmetro 'lista'.\n",
    "# Este parâmetro 'lista' é a lista de números que será ordenada.\n",
    "def ordenar_lista(lista):\n",
    "    \n",
    "    # Utiliza a função 'sorted()' para ordenar a lista.\n",
    "    # A função 'sorted()' retorna uma nova lista que contém \n",
    "            # todos os elementos da lista original em ordem crescente.\n",
    "    # Esta função não modifica a lista original, mantendo-a inalterada.\n",
    "    return sorted(lista)\n",
    "\n",
    "# Chama a função 'ordenar_lista', passando uma lista \n",
    "        # de números como argumento.\n",
    "# A função processa essa lista e retorna uma nova \n",
    "        # lista com os números ordenados.\n",
    "resultado = ordenar_lista([5, 3, 8, 1, 9])\n",
    "\n",
    "# Imprime o resultado da função.\n",
    "# A f-string é usada para formatar a saída incluindo a \n",
    "        # lista ordenada na mensagem exibida.\n",
    "print(f\"Lista ordenada: {resultado}\")"
   ]
  },
  {
   "cell_type": "code",
   "execution_count": null,
   "id": "282e4009-872f-46be-9c04-614e891519e8",
   "metadata": {},
   "outputs": [],
   "source": []
  },
  {
   "cell_type": "code",
   "execution_count": 38,
   "id": "c2c81993-76a6-425c-89b2-7e1ae5b774f5",
   "metadata": {},
   "outputs": [
    {
     "name": "stdout",
     "output_type": "stream",
     "text": [
      "Maior número: 40, Menor número: 4\n"
     ]
    }
   ],
   "source": [
    "\"\"\"\n",
    "16. Função para Encontrar o Maior e o Menor Número em uma Lista\n",
    "\n",
    "Crie uma função chamada maior_menor que receba uma lista de números e \n",
    "retorne o maior e o menor número da lista.\n",
    "\"\"\"\n",
    "\n",
    "# Define a função 'maior_menor', que recebe um parâmetro 'lista'.\n",
    "# Este parâmetro é esperado para ser uma lista de números.\n",
    "def maior_menor(lista):\n",
    "    \n",
    "    # Utiliza a função 'max()' para encontrar o maior \n",
    "            # número na lista.\n",
    "    # 'max(lista)' percorre todos os elementos da lista e \n",
    "            # retorna o maior valor encontrado.\n",
    "    # Utiliza a função 'min()' para encontrar o \n",
    "            # menor número na lista.\n",
    "    # 'min(lista)' funciona de maneira semelhante, percorrendo \n",
    "            # todos os elementos e retornando o menor valor.\n",
    "    return max(lista), min(lista)\n",
    "\n",
    "# Chama a função 'maior_menor' com uma lista de \n",
    "        # números como argumento.\n",
    "# A função processa essa lista e retorna o maior e \n",
    "        # o menor número encontrados.\n",
    "maior, menor = maior_menor([10, 4, 7, 12, 5, 40])\n",
    "\n",
    "# Imprime os resultados obtidos da função.\n",
    "# A f-string é usada para formatar a saída, mostrando \n",
    "        # claramente o maior e o menor número.\n",
    "print(f\"Maior número: {maior}, Menor número: {menor}\")"
   ]
  },
  {
   "cell_type": "code",
   "execution_count": null,
   "id": "fa9aa466-69e1-4182-801d-38d612247bc2",
   "metadata": {},
   "outputs": [],
   "source": []
  },
  {
   "cell_type": "code",
   "execution_count": null,
   "id": "7c49eba2-0167-4883-bcc1-b074f96f6691",
   "metadata": {},
   "outputs": [],
   "source": []
  }
 ],
 "metadata": {
  "kernelspec": {
   "display_name": "Python 3 (ipykernel)",
   "language": "python",
   "name": "python3"
  },
  "language_info": {
   "codemirror_mode": {
    "name": "ipython",
    "version": 3
   },
   "file_extension": ".py",
   "mimetype": "text/x-python",
   "name": "python",
   "nbconvert_exporter": "python",
   "pygments_lexer": "ipython3",
   "version": "3.11.7"
  }
 },
 "nbformat": 4,
 "nbformat_minor": 5
}
