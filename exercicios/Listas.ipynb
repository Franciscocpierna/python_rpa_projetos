{
 "cells": [
  {
   "cell_type": "code",
   "execution_count": 6,
   "id": "2881bf0b-bd0b-401f-a286-031a67cc1abd",
   "metadata": {},
   "outputs": [
    {
     "name": "stdout",
     "output_type": "stream",
     "text": [
      "Maior número: 900\n",
      "Menor número: 5\n"
     ]
    }
   ],
   "source": [
    "\"\"\"\n",
    "1. Crie uma lista com 10 números inteiros e exiba o \n",
    "        maior e o menor valor da lista.\n",
    "\n",
    "Objetivo: Manipular listas e utilizar funções como min() e max().\n",
    "\"\"\"\n",
    "\n",
    "# Cria uma lista chamada 'numeros' contendo 10 números inteiros.\n",
    "# Esses números são escolhidos arbitrariamente para o exemplo.\n",
    "numeros = [23, 12, 9, 56, 34, 7, 82, 5, 47, 10, 90, 100, 900]\n",
    "\n",
    "# Utiliza a função 'max()' para encontrar o maior \n",
    "        # número na lista 'numeros'.\n",
    "# 'max()' percorre todos os elementos da lista e \n",
    "        # retorna o maior valor encontrado.\n",
    "print(\"Maior número:\", max(numeros))\n",
    "\n",
    "# Utiliza a função 'min()' para encontrar o menor \n",
    "        # número na lista 'numeros'.\n",
    "# 'min()' percorre todos os elementos da lista e \n",
    "        # retorna o menor valor encontrado.\n",
    "print(\"Menor número:\", min(numeros))"
   ]
  },
  {
   "cell_type": "code",
   "execution_count": null,
   "id": "7780ecfd-8f69-4e1b-b1e0-2cf5a0911f60",
   "metadata": {},
   "outputs": [],
   "source": []
  },
  {
   "cell_type": "code",
   "execution_count": 8,
   "id": "3f7e13b5-3c81-47d8-b315-b4cc7f7c8f4c",
   "metadata": {},
   "outputs": [
    {
     "name": "stdin",
     "output_type": "stream",
     "text": [
      "Digite um número:  10\n",
      "Digite um número:  100\n",
      "Digite um número:  10\n",
      "Digite um número:  10\n",
      "Digite um número:  10\n"
     ]
    },
    {
     "name": "stdout",
     "output_type": "stream",
     "text": [
      "Soma dos números: 140\n"
     ]
    }
   ],
   "source": [
    "\"\"\"\n",
    "2. Peça ao usuário 5 números e armazene-os em uma lista. \n",
    "        Em seguida, exiba a soma de todos os números.\n",
    "\n",
    "Objetivo: Praticar entrada de dados, laços de repetição e \n",
    "        manipulação de listas.\n",
    "\"\"\"\n",
    "\n",
    "# Cria uma lista vazia chamada 'numeros'.\n",
    "# Esta lista será usada para armazenar os números digitados pelo usuário.\n",
    "numeros = []\n",
    "\n",
    "# Utiliza um laço 'for' para repetir o bloco de código 5 vezes, \n",
    "        # uma vez para cada número que deve ser inserido.\n",
    "# A função 'range(5)' gera uma sequência de números de 0 a 4, \n",
    "        # que são usados aqui apenas para contar as iterações.\n",
    "for i in range(5):\n",
    "    \n",
    "    # Solicita ao usuário que digite um número. A entrada é \n",
    "            # capturada como string e convertida para inteiro.\n",
    "    numero = int(input(\"Digite um número: \"))\n",
    "    \n",
    "    # Adiciona o número digitado à lista 'numeros' \n",
    "            # usando o método 'append()'.\n",
    "    # 'append()' adiciona o número ao final da lista.\n",
    "    numeros.append(numero)\n",
    "\n",
    "# Utiliza a função 'sum()' para calcular a soma de todos \n",
    "        # os números na lista 'numeros'.\n",
    "# 'sum()' percorre cada elemento da lista, somando-os e \n",
    "        # retornando o total.\n",
    "print(\"Soma dos números:\", sum(numeros))"
   ]
  },
  {
   "cell_type": "code",
   "execution_count": null,
   "id": "25f86351-6457-4bad-8669-89094ce2083b",
   "metadata": {},
   "outputs": [],
   "source": []
  },
  {
   "cell_type": "code",
   "execution_count": 11,
   "id": "5c81ee69-56fa-4336-98b6-d601025915b1",
   "metadata": {},
   "outputs": [
    {
     "name": "stdout",
     "output_type": "stream",
     "text": [
      "Lista de números ímpares: [1, 3, 5, 7, 9, 13, 17]\n"
     ]
    }
   ],
   "source": [
    "\"\"\"\n",
    "3. Dada uma lista de números, remova todos os números pares.\n",
    "\n",
    "Objetivo: Filtrar elementos de uma lista.\n",
    "\"\"\"\n",
    "\n",
    "# Cria uma lista chamada 'numeros' contendo números de 1 a 10.\n",
    "# Esta lista inicial inclui tanto números pares quanto ímpares.\n",
    "numeros = [1, 2, 3, 4, 5, 6, 7, 8, 9, 10, 12, 13, 14, 14, 16, 17]\n",
    "\n",
    "# Utiliza compreensão de lista para criar uma nova \n",
    "        # lista chamada 'numeros_impares'.\n",
    "# A compreensão de lista é uma maneira concisa de criar \n",
    "        # listas baseadas em listas existentes.\n",
    "# 'n for n in numeros' é o loop que percorre cada elemento em 'numeros'.\n",
    "# 'if n % 2 != 0' é a condição que filtra os números, \n",
    "        # incluindo na nova lista apenas os que são ímpares.\n",
    "numeros_impares = [n for n in numeros if n % 2 != 0]\n",
    "\n",
    "# Imprime a lista 'numeros_impares', que contém apenas os \n",
    "        # números ímpares da lista original.\n",
    "print(\"Lista de números ímpares:\", numeros_impares)"
   ]
  },
  {
   "cell_type": "code",
   "execution_count": null,
   "id": "f36d0229-5cf7-4edb-9545-60d42421e8d2",
   "metadata": {},
   "outputs": [],
   "source": []
  },
  {
   "cell_type": "code",
   "execution_count": 12,
   "id": "d8cdd195-9edd-41f8-8b6d-2b73fbf0049d",
   "metadata": {},
   "outputs": [
    {
     "name": "stdout",
     "output_type": "stream",
     "text": [
      "Nomes em ordem alfabética: ['Ana', 'Bia', 'Clara', 'José', 'João', 'Lucia', 'Maria', 'Paulo', 'Pedro', 'Tiago']\n"
     ]
    }
   ],
   "source": [
    "\"\"\"\n",
    "4. Crie uma lista com 10 nomes e ordene-a em ordem alfabética.\n",
    "\n",
    "Objetivo: Manipulação de listas de strings e ordenação.\n",
    "\"\"\"\n",
    "\n",
    "# Cria uma lista chamada 'nomes' contendo 10 nomes diferentes.\n",
    "# Esta lista será usada para demonstrar como ordenar elementos em Python.\n",
    "nomes = [\"Maria\", \"José\", \"Ana\", \"Paulo\", \"João\", \"Clara\", \"Pedro\", \"Lucia\", \"Tiago\", \"Bia\"]\n",
    "\n",
    "# Utiliza o método .sort() para ordenar a lista 'nomes' \n",
    "        # em ordem alfabética.\n",
    "# O método .sort() modifica a lista original e ordena \n",
    "        # os seus elementos.\n",
    "# Por padrão, sort() ordena os elementos em ordem \n",
    "        # crescente e, para strings, isso significa ordem alfabética.\n",
    "nomes.sort()\n",
    "\n",
    "# Imprime a lista 'nomes' após a ordenação.\n",
    "# A saída mostrará os nomes organizados de A a Z.\n",
    "print(\"Nomes em ordem alfabética:\", nomes)"
   ]
  },
  {
   "cell_type": "code",
   "execution_count": null,
   "id": "6ea9ea52-27ce-4b98-949f-aa677045314b",
   "metadata": {},
   "outputs": [],
   "source": []
  },
  {
   "cell_type": "code",
   "execution_count": 17,
   "id": "fed82ab7-ac6d-4fc4-a39c-e05ffd9c642f",
   "metadata": {},
   "outputs": [
    {
     "name": "stdout",
     "output_type": "stream",
     "text": [
      "Segundo maior número: 87\n"
     ]
    }
   ],
   "source": [
    "\"\"\"\n",
    "5. Crie uma lista de números e encontre o segundo maior número na lista.\n",
    "\n",
    "Objetivo: Manipular listas para encontrar elementos com base em sua ordem.\n",
    "\"\"\"\n",
    "\n",
    "# Cria uma lista chamada 'numeros' contendo uma série de números inteiros.\n",
    "# Esta lista será usada para identificar o segundo maior número.\n",
    "numeros = [10, 10, 10, 45, 45, 45, 34, 34, 34, 87, 23, 56, 78, 12, 99]\n",
    "\n",
    "# Converte a lista 'numeros' em um conjunto para remover \n",
    "        # quaisquer números duplicados,\n",
    "# garantindo que a comparação para encontrar o segundo maior \n",
    "        # número seja justa e não influenciada por repetições.\n",
    "# O resultado é então convertido de volta para uma lista \n",
    "        # chamada 'numeros_unicos'.\n",
    "numeros_unicos = list(set(numeros))\n",
    "\n",
    "# Ordena a lista 'numeros_unicos' em ordem crescente.\n",
    "# A função sort() organiza os elementos da lista \n",
    "        # do menor para o maior.\n",
    "numeros_unicos.sort()\n",
    "\n",
    "# Acessa o penúltimo elemento da lista ordenada, que \n",
    "        # corresponde ao segundo maior número,\n",
    "# utilizando a indexação negativa, onde -2 refere-se \n",
    "        # ao segundo elemento do final da lista.\n",
    "print(\"Segundo maior número:\", numeros_unicos[-2])"
   ]
  },
  {
   "cell_type": "code",
   "execution_count": null,
   "id": "11c8a348-d71a-4c63-aaff-3bbbc15a735e",
   "metadata": {},
   "outputs": [],
   "source": []
  },
  {
   "cell_type": "code",
   "execution_count": 18,
   "id": "355690aa-d125-4a18-aead-8db154952928",
   "metadata": {},
   "outputs": [
    {
     "name": "stdin",
     "output_type": "stream",
     "text": [
      "Digite palavras separadas por vírgulas:  Eu, gosto, de, estudar, python\n"
     ]
    },
    {
     "name": "stdout",
     "output_type": "stream",
     "text": [
      "Lista com palavras invertidas: [' python', ' estudar', ' de', ' gosto', 'Eu']\n"
     ]
    }
   ],
   "source": [
    "\"\"\"\n",
    "6. Peça ao usuário uma lista de palavras separadas por \n",
    "        vírgulas e mostre a lista com as palavras invertidas.\n",
    "\n",
    "Objetivo: Manipular strings e listas, reverter listas.\n",
    "\"\"\"\n",
    "\n",
    "# Solicita ao usuário que digite uma série de palavras, \n",
    "        # separadas por vírgulas.\n",
    "# A entrada do usuário é capturada como uma string.\n",
    "palavras = input(\"Digite palavras separadas por vírgulas: \").split(',')\n",
    "\n",
    "# O método .split(',') é usado para dividir a string de \n",
    "        # entrada em uma lista de palavras,\n",
    "        # onde cada palavra é separada pelo delimitador vírgula (,).\n",
    "# Isso transforma a string contínua em uma lista \n",
    "        # de strings individuais.\n",
    "\n",
    "# Utiliza o fatiamento de lista [::-1] para inverter a \n",
    "        # ordem dos elementos na lista 'palavras'.\n",
    "# [::-1] é uma sintaxe que começa do final até o início \n",
    "        # da lista, movendo-se com um passo de -1 (inverso).\n",
    "palavras_invertidas = palavras[::-1]\n",
    "\n",
    "# Imprime a lista de palavras invertida.\n",
    "# Mostra as palavras na ordem em que foram inseridas, \n",
    "        # mas agora em ordem reversa.\n",
    "print(\"Lista com palavras invertidas:\", palavras_invertidas)"
   ]
  },
  {
   "cell_type": "code",
   "execution_count": null,
   "id": "f3b94344-8cb5-4963-ba61-9577cf6f8ede",
   "metadata": {},
   "outputs": [],
   "source": []
  },
  {
   "cell_type": "code",
   "execution_count": 19,
   "id": "89fef043-72cb-4725-8352-dabba7265ba5",
   "metadata": {},
   "outputs": [
    {
     "name": "stdout",
     "output_type": "stream",
     "text": [
      "Números maiores que 10: [12, 21, 44, 15]\n"
     ]
    }
   ],
   "source": [
    "\"\"\"\n",
    "7. Dada uma lista de números, crie uma nova lista que \n",
    "        contenha apenas os números maiores que 10.\n",
    "\n",
    "Objetivo: Filtragem de listas com base em uma condição.\n",
    "\"\"\"\n",
    "\n",
    "# Cria uma lista chamada 'numeros' contendo uma variedade \n",
    "        # de números inteiros.\n",
    "# Esta lista é o conjunto de dados de entrada a partir do \n",
    "        # qual queremos filtrar certos elementos.\n",
    "numeros = [5, 12, 9, 21, 3, 44, 8, 15]\n",
    "\n",
    "# Utiliza compreensão de lista para criar uma nova lista 'maiores_que_dez'.\n",
    "# A compreensão de lista é uma forma concisa e eficiente de \n",
    "        # criar listas novas filtrando elementos de uma lista existente.\n",
    "# 'n for n in numeros' itera sobre cada elemento em 'numeros'.\n",
    "# 'if n > 10' é a condição que filtra os números, incluindo na \n",
    "        # nova lista apenas aqueles que são maiores que 10.\n",
    "maiores_que_dez = [n for n in numeros if n > 10]\n",
    "\n",
    "# Imprime a nova lista 'maiores_que_dez', que contém apenas os \n",
    "        # números da lista original que são maiores que 10.\n",
    "print(\"Números maiores que 10:\", maiores_que_dez)"
   ]
  },
  {
   "cell_type": "code",
   "execution_count": null,
   "id": "b5325fb5-4326-475d-97b5-c75998a044b6",
   "metadata": {},
   "outputs": [],
   "source": []
  },
  {
   "cell_type": "code",
   "execution_count": 25,
   "id": "047c39f2-f0a7-4429-a954-869783864938",
   "metadata": {},
   "outputs": [
    {
     "name": "stdin",
     "output_type": "stream",
     "text": [
      "Digite a fruta que deseja buscar:  melancia\n"
     ]
    },
    {
     "name": "stdout",
     "output_type": "stream",
     "text": [
      "melancia está na lista.\n"
     ]
    }
   ],
   "source": [
    "\"\"\"\n",
    "8. Verifique se uma lista contém um valor específico.\n",
    "\n",
    "Objetivo: Usar operadores de pertencimento e manipulação de listas.\n",
    "\"\"\"\n",
    "\n",
    "# Cria uma lista chamada 'frutas' contendo vários itens, \n",
    "        # que são nomes de frutas.\n",
    "# Esta lista serve como o conjunto de dados no qual a \n",
    "        # pesquisa será realizada.\n",
    "frutas = [\"maçã\", \"banana\", \"laranja\", \"uva\", \"melancia\"]\n",
    "\n",
    "# Solicita ao usuário que digite o nome de uma fruta \n",
    "        # que deseja buscar na lista.\n",
    "# A entrada do usuário é capturada e armazenada na variável 'busca'.\n",
    "busca = input(\"Digite a fruta que deseja buscar: \")\n",
    "\n",
    "# Utiliza o operador 'in' para verificar se o valor armazenado \n",
    "        # em 'busca' está presente na lista 'frutas'.\n",
    "# O operador 'in' retorna True se o item estiver na \n",
    "        # lista e False caso contrário.\n",
    "if busca in frutas:\n",
    "    \n",
    "    # Se a fruta buscada estiver na lista, imprime uma \n",
    "            # mensagem confirmando que a fruta está na lista.\n",
    "    print(f\"{busca} está na lista.\")\n",
    "    \n",
    "else:\n",
    "    \n",
    "    # Se a fruta buscada não estiver na lista, imprime uma \n",
    "            # mensagem indicando que a fruta não está na lista.\n",
    "    print(f\"{busca} não está na lista.\")"
   ]
  },
  {
   "cell_type": "code",
   "execution_count": null,
   "id": "505626af-2b3c-4d08-b578-d8c9fdef177a",
   "metadata": {},
   "outputs": [],
   "source": []
  },
  {
   "cell_type": "code",
   "execution_count": 27,
   "id": "5c775577-78df-446a-b226-2ba290631d26",
   "metadata": {},
   "outputs": [
    {
     "name": "stdout",
     "output_type": "stream",
     "text": [
      "Lista combinada sem duplicatas: [1, 2, 3, 4, 5, 6, 7, 8]\n"
     ]
    }
   ],
   "source": [
    "\"\"\"\n",
    "9. Combine duas listas de números, remova os duplicados e \n",
    "        exiba a lista resultante.\n",
    "\n",
    "Objetivo: Manipular várias listas e remover  duplicados.\n",
    "\"\"\"\n",
    "\n",
    "# Define duas listas de números, cada uma contendo alguns \n",
    "        # elementos sobrepostos.\n",
    "lista1 = [1, 2, 3, 4, 5]\n",
    "lista2 = [4, 5, 6, 7, 8]\n",
    "\n",
    "# Combina as duas listas usando o operador '+', que \n",
    "        # concatena as listas lista1 e lista2.\n",
    "# Em seguida, converte a lista combinada em um conjunto usando 'set()'.\n",
    "# A conversão para conjunto automaticamente remove \n",
    "        # qualquer elemento duplicado,\n",
    "        # pois um conjunto não permite duplicatas por definição.\n",
    "lista_combinada = list(set(lista1 + lista2))\n",
    "\n",
    "# Converte o conjunto de volta para uma lista. \n",
    "# Esta conversão é necessária para restaurar as características \n",
    "        # da lista, como a indexação de elementos.\n",
    "# Imprime a lista resultante, que agora contém todos os \n",
    "        # elementos únicos das duas listas originais.\n",
    "print(\"Lista combinada sem duplicatas:\", lista_combinada)"
   ]
  },
  {
   "cell_type": "code",
   "execution_count": null,
   "id": "39808b91-666c-49d1-8d72-5024b804da7e",
   "metadata": {},
   "outputs": [],
   "source": []
  },
  {
   "cell_type": "code",
   "execution_count": 29,
   "id": "06294cbe-47c5-4804-9694-198265dd4316",
   "metadata": {},
   "outputs": [
    {
     "name": "stdin",
     "output_type": "stream",
     "text": [
      "Digite um número:  5\n",
      "Digite um número:  9\n",
      "Digite um número:  12\n",
      "Digite um número:  8\n",
      "Digite um número:  10\n"
     ]
    },
    {
     "name": "stdout",
     "output_type": "stream",
     "text": [
      "Lista original: [5, 9, 12, 8, 10]\n",
      "Lista ordenada: [5, 8, 9, 10, 12]\n"
     ]
    }
   ],
   "source": [
    "\"\"\"\n",
    "10. Peça ao usuário 5 números e exiba a lista original e a \n",
    "        lista ordenada sem alterar a original.\n",
    "\n",
    "Objetivo: Praticar ordenação de listas e cópia de listas.\n",
    "\"\"\"\n",
    "\n",
    "# Inicializa uma lista vazia chamada 'numeros'.\n",
    "# Esta lista será usada para armazenar os números \n",
    "        # digitados pelo usuário.\n",
    "numeros = []\n",
    "\n",
    "# Usa um laço 'for' para repetir a solicitação de entrada \n",
    "        # de números cinco vezes.\n",
    "# A função 'range(5)' gera uma sequência de cinco números (0 a 4), \n",
    "        # que é usada para controlar o número de repetições.\n",
    "for i in range(5):\n",
    "    \n",
    "    # Solicita ao usuário que digite um número. A entrada é capturada \n",
    "            # como string e convertida para inteiro.\n",
    "    numero = int(input(\"Digite um número: \"))\n",
    "    \n",
    "    # Adiciona o número digitado à lista 'numeros' \n",
    "            # usando o método 'append()'.\n",
    "    # 'append()' adiciona o elemento ao final da lista.\n",
    "    numeros.append(numero)\n",
    "\n",
    "# Cria uma nova lista chamada 'lista_ordenada' \n",
    "        # usando a função 'sorted()'.\n",
    "# 'sorted(numeros)' retorna uma nova lista contendo todos os \n",
    "        # elementos de 'numeros', mas ordenados.\n",
    "# Importante notar que 'sorted()' não modifica a lista original, o \n",
    "        # que é perfeito para este caso.\n",
    "lista_ordenada = sorted(numeros)\n",
    "\n",
    "# Imprime a lista 'numeros' para mostrar a lista original \n",
    "        # como foi inserida pelo usuário.\n",
    "print(\"Lista original:\", numeros)\n",
    "\n",
    "# Imprime a 'lista_ordenada' para mostrar a mesma lista, mas \n",
    "        # com os elementos em ordem crescente.\n",
    "print(\"Lista ordenada:\", lista_ordenada)"
   ]
  },
  {
   "cell_type": "code",
   "execution_count": null,
   "id": "b9dc9fe8-99fa-4c7a-b5ff-2ccadca5ca50",
   "metadata": {},
   "outputs": [],
   "source": []
  },
  {
   "cell_type": "code",
   "execution_count": 30,
   "id": "12bb5125-a1e2-4a10-987b-91934c4b6713",
   "metadata": {},
   "outputs": [
    {
     "name": "stdout",
     "output_type": "stream",
     "text": [
      "Aluno: Ana - Média: 9.0\n",
      "Aluno: Clara - Média: 9.0\n",
      "Aluno: João - Média: 8.0\n",
      "Aluno: Paulo - Média: 6.0\n"
     ]
    }
   ],
   "source": [
    "\"\"\"\n",
    "11. Crie uma lista de listas que contenha o nome de alunos e suas \n",
    "notas (exemplo: [[\"João\", 8, 7, 9], [\"Ana\", 10, 9, 8]]). \n",
    "\n",
    "Calcule e exiba a média de cada aluno e a lista ordenada \n",
    "pela média, de forma decrescente.\n",
    "\n",
    "Objetivo: Trabalhar com listas aninhadas, calcular médias e realizar \n",
    "ordenação com base em critérios.\n",
    "\"\"\"\n",
    "\n",
    "# Cria uma lista de listas, onde cada sublista contém o nome \n",
    "        # de um aluno seguido por suas notas.\n",
    "alunos = [[\"João\", 8, 7, 9], [\"Ana\", 10, 9, 8], [\"Paulo\", 6, 5, 7], [\"Clara\", 9, 8, 10]]\n",
    "\n",
    "# Calcula a média de cada aluno\n",
    "for aluno in alunos:\n",
    "    \n",
    "    # 'aluno[1:]' acessa as notas do aluno na lista (ignorando o nome), \n",
    "            # e 'sum(aluno[1:])' soma essas notas.\n",
    "    # 'len(aluno[1:])' conta quantas notas existem. A divisão \n",
    "            # desses dois valores calcula a média.\n",
    "    media = sum(aluno[1:]) / len(aluno[1:])\n",
    "    \n",
    "    # Adiciona a média calculada ao final da sublista do aluno.\n",
    "    # Isso expande a lista original do aluno para incluir sua \n",
    "            # média como último elemento.\n",
    "    aluno.append(media)\n",
    "\n",
    "# Ordena a lista 'alunos' pela média, que é agora o quinto \n",
    "        # elemento de cada sublista (índice 4),\n",
    "# utilizando a função 'sorted()'. O parâmetro 'key=lambda x: x[4]' \n",
    "        # especifica que a ordenação deve\n",
    "        # usar o quinto elemento das sublistas como chave de ordenação.\n",
    "# 'reverse=True' especifica que a ordenação deve ser \n",
    "        # feita em ordem decrescente.\n",
    "alunos_ordenados = sorted(alunos, key=lambda x: x[4], reverse=True)\n",
    "\n",
    "# Exibe os resultados de forma formatada\n",
    "# Itera sobre a lista 'alunos_ordenados' e imprime o \n",
    "        # nome do aluno e sua média.\n",
    "for aluno in alunos_ordenados:\n",
    "    print(f\"Aluno: {aluno[0]} - Média: {aluno[4]}\")"
   ]
  },
  {
   "cell_type": "code",
   "execution_count": null,
   "id": "e088bdbf-2691-4da2-b789-3dd7796733ca",
   "metadata": {},
   "outputs": [],
   "source": []
  },
  {
   "cell_type": "code",
   "execution_count": 31,
   "id": "117d282d-d724-4e25-bcac-bcbd0572ccb7",
   "metadata": {},
   "outputs": [
    {
     "name": "stdout",
     "output_type": "stream",
     "text": [
      "Interseção das listas: [4, 5]\n"
     ]
    }
   ],
   "source": [
    "\"\"\"\n",
    "12. Implemente uma função que receba duas listas e retorne uma \n",
    "        lista contendo apenas os elementos que estão presentes em \n",
    "        ambas as listas (interseção).\n",
    "\n",
    "\n",
    "Objetivo: Manipular listas para realizar a interseção de \n",
    "conjuntos, trabalhando com lógica de pertencimento.\n",
    "\"\"\"\n",
    "\n",
    "# Define uma função chamada 'intersecao_listas' que \n",
    "        # recebe duas listas como argumentos.\n",
    "def intersecao_listas(lista1, lista2):\n",
    "    \n",
    "    # Utiliza compreensão de lista para criar uma nova lista. \n",
    "    # O loop 'for' itera sobre cada 'item' na 'lista1'.\n",
    "    # A condição 'if item in lista2' verifica se o 'item' \n",
    "            # atual também está presente em 'lista2'.\n",
    "    # Se o 'item' estiver em ambas as listas, ele é incluído \n",
    "            # na nova lista retornada pela função.\n",
    "    return [item for item in lista1 if item in lista2]\n",
    "\n",
    "# Define duas listas de números, 'lista1' e 'lista2', \n",
    "        # com alguns elementos em comum.\n",
    "lista1 = [1, 2, 3, 4, 5]\n",
    "lista2 = [4, 5, 6, 7, 8]\n",
    "\n",
    "# Chama a função 'intersecao_listas' passando 'lista1' \n",
    "        # e 'lista2' como argumentos.\n",
    "# Armazena o resultado retornado pela função na \n",
    "        # variável 'resultado'.\n",
    "resultado = intersecao_listas(lista1, lista2)\n",
    "\n",
    "# Imprime a variável 'resultado', que contém os elementos \n",
    "        # presentes em ambas as listas.\n",
    "print(\"Interseção das listas:\", resultado)"
   ]
  },
  {
   "cell_type": "code",
   "execution_count": null,
   "id": "caa85430-e287-4249-b3a3-32dcce368f96",
   "metadata": {},
   "outputs": [],
   "source": []
  },
  {
   "cell_type": "code",
   "execution_count": 35,
   "id": "9777d175-c1f3-4e84-9c77-e2960b8dde2f",
   "metadata": {},
   "outputs": [
    {
     "name": "stdout",
     "output_type": "stream",
     "text": [
      "Positivos: [10, 4, 8, 3] (Total: 4)\n",
      "Negativos: [-1, -7, -9, -2, -5] (Total: 5)\n"
     ]
    }
   ],
   "source": [
    "\"\"\"\n",
    "13. Dada uma lista de números inteiros, crie uma função que separe a \n",
    "    lista em duas novas listas: uma contendo os números positivos e outra \n",
    "    contendo os números negativos. Exiba as duas listas e seus tamanhos.\n",
    "\n",
    "Objetivo: Separar dados de uma lista em múltiplas listas com base em uma \n",
    "condição e usar compreensão de listas.\n",
    "\"\"\"\n",
    "\n",
    "# Define uma função chamada 'separar_lista' que aceita uma \n",
    "        # lista de números inteiros como argumento.\n",
    "def separar_lista(numeros):\n",
    "    \n",
    "    # Utiliza compreensão de lista para criar uma \n",
    "            # nova lista chamada 'positivos'.\n",
    "    # Essa nova lista inclui apenas os elementos \n",
    "            # de 'numeros' que são maiores que zero.\n",
    "    positivos = [n for n in numeros if n > 0]\n",
    "    \n",
    "    # Utiliza outra compreensão de lista para criar uma \n",
    "            # nova lista chamada 'negativos'.\n",
    "    # Essa nova lista inclui apenas os elementos de \n",
    "            # 'numeros' que são menores que zero.\n",
    "    negativos = [n for n in numeros if n < 0]\n",
    "    \n",
    "    # Retorna as duas listas como um par de \n",
    "            # valores: 'positivos' e 'negativos'.\n",
    "    return positivos, negativos\n",
    "\n",
    "# Define uma lista de números inteiros com valores \n",
    "        # positivos, negativos e zero.\n",
    "lista = [10, -1, -7, 4, 8, -9, 3, -2, -5, 0]\n",
    "\n",
    "# Chama a função 'separar_lista' passando 'lista' \n",
    "        # como argumento.\n",
    "# Desempacota o resultado retornado em duas \n",
    "        # variáveis: 'positivos' e 'negativos'.\n",
    "positivos, negativos = separar_lista(lista)\n",
    "\n",
    "# Imprime a lista 'positivos', o total de elementos \n",
    "        # em 'positivos' usando a função 'len()'.\n",
    "print(f\"Positivos: {positivos} (Total: {len(positivos)})\")\n",
    "\n",
    "# Imprime a lista 'negativos', o total de elementos \n",
    "        # em 'negativos' também usando 'len()'.\n",
    "print(f\"Negativos: {negativos} (Total: {len(negativos)})\")"
   ]
  },
  {
   "cell_type": "code",
   "execution_count": null,
   "id": "1d0a9d88-c4cf-415d-910e-ff0d7096f82a",
   "metadata": {},
   "outputs": [],
   "source": []
  },
  {
   "cell_type": "code",
   "execution_count": 39,
   "id": "9ad8bb0f-525d-4152-bfe4-9b69d1552707",
   "metadata": {},
   "outputs": [
    {
     "name": "stdout",
     "output_type": "stream",
     "text": [
      "Palavras com 8 letras: ['cachorro', 'elefante']\n",
      "Palavras com 4 letras: ['gato', 'rato', 'onça']\n",
      "Palavras com 3 letras: ['ave']\n",
      "Palavras com 6 letras: ['girafa']\n",
      "Palavras com 22 letras: ['otorrinolaringologista']\n",
      "Palavras com 14 letras: ['paralelepipedo']\n"
     ]
    }
   ],
   "source": [
    "\"\"\"\n",
    "14. Dada uma lista de palavras, crie uma função que agrupe essas \n",
    "    palavras por seu comprimento. A função deve retornar um dicionário \n",
    "    onde as chaves são os comprimentos e os valores são listas de \n",
    "    palavras com aquele comprimento.\n",
    "\n",
    "Objetivo: Usar dicionários em conjunto com listas, processamento \n",
    "de strings e organização de dados.\n",
    "\"\"\"\n",
    "\n",
    "# Define a função 'agrupar_por_comprimento' que aceita uma \n",
    "        # lista chamada 'palavras' como parâmetro.\n",
    "def agrupar_por_comprimento(palavras):\n",
    "    \n",
    "    # Cria um dicionário vazio chamado 'agrupadas' para \n",
    "            # armazenar os grupos de palavras pelo seu comprimento.\n",
    "    agrupadas = {}\n",
    "    \n",
    "    # Inicia um laço 'for' que percorre cada 'palavra' na lista 'palavras'.\n",
    "    for palavra in palavras:\n",
    "        \n",
    "        # Usa a função 'len()' para calcular o comprimento da 'palavra' atual.\n",
    "        comprimento = len(palavra)\n",
    "        \n",
    "        # Verifica se o comprimento atual já existe como \n",
    "                # chave no dicionário 'agrupadas'.\n",
    "        if comprimento not in agrupadas:\n",
    "            \n",
    "            # Se não existir, cria uma nova entrada no dicionário com o \n",
    "                    # comprimento como chave e uma lista vazia como valor.\n",
    "            agrupadas[comprimento] = []\n",
    "        \n",
    "        # Adiciona a 'palavra' atual à lista correspondente ao \n",
    "                # seu comprimento no dicionário.\n",
    "        agrupadas[comprimento].append(palavra)\n",
    "    \n",
    "    # Retorna o dicionário 'agrupadas' que agora contém as palavras \n",
    "            # agrupadas por seu comprimento.\n",
    "    return agrupadas\n",
    "\n",
    "# Cria uma lista de palavras.\n",
    "palavras = [\"cachorro\", \"gato\", \"elefante\", \"ave\", \"rato\", \"onça\", \"girafa\", \"otorrinolaringologista\", \"paralelepipedo\"]\n",
    "\n",
    "# Chama a função 'agrupar_por_comprimento' passando a lista 'palavras' \n",
    "        # e armazena o resultado retornado na variável 'resultado'.\n",
    "resultado = agrupar_por_comprimento(palavras)\n",
    "\n",
    "# Itera sobre cada item no dicionário 'resultado'.\n",
    "# A função 'items()' retorna uma lista de \n",
    "        # tuplas (chave, valor) do dicionário.\n",
    "for comprimento, grupo in resultado.items():\n",
    "    \n",
    "    # Imprime o comprimento e a lista de palavras \n",
    "            # que possuem aquele comprimento.\n",
    "    print(f\"Palavras com {comprimento} letras: {grupo}\")"
   ]
  },
  {
   "cell_type": "code",
   "execution_count": null,
   "id": "9844a00f-7475-403b-88dc-2754d6f32337",
   "metadata": {},
   "outputs": [],
   "source": []
  },
  {
   "cell_type": "code",
   "execution_count": 40,
   "id": "dc5cc0f5-3a68-4f05-8526-ebb61ca312b7",
   "metadata": {},
   "outputs": [
    {
     "name": "stdout",
     "output_type": "stream",
     "text": [
      "Soma dos elementos em indices pares: 100\n",
      "Soma dos elementos em indices impares: 75\n"
     ]
    }
   ],
   "source": [
    "\"\"\"\n",
    "15. Dada uma lista de números inteiros, escreva uma função que \n",
    "    retorne a soma dos elementos que estão em índices pares e a \n",
    "    soma dos elementos que estão em índices ímpares.\n",
    "\n",
    "Objetivo: Trabalhar com índices de listas e realizar operações matemáticas \n",
    "com base nos índices dos elementos.\n",
    "\"\"\"\n",
    "\n",
    "# Define uma função chamada 'soma_pares_impares' que aceita \n",
    "        # uma lista de números inteiros como parâmetro.\n",
    "def soma_pares_impares(numeros):\n",
    "    \n",
    "    # Calcula a soma dos elementos que estão em índices pares.\n",
    "    # Usa compreensão de lista com 'range(0, len(numeros), 2)' \n",
    "            # para iterar sobre índices pares.\n",
    "    # 'range(0, len(numeros), 2)' começa no índice 0 e avança \n",
    "            # de dois em dois até o final da lista.\n",
    "    soma_pares = sum(numeros[i] for i in range(0, len(numeros), 2))\n",
    "    \n",
    "    # Calcula a soma dos elementos que estão em índices ímpares.\n",
    "    # Usa compreensão de lista com 'range(1, len(numeros), 2)' \n",
    "            # para iterar sobre índices ímpares.\n",
    "    # 'range(1, len(numeros), 2)' começa no índice 1 e avança \n",
    "            # de dois em dois, cobrindo todos os índices ímpares.\n",
    "    soma_impares = sum(numeros[i] for i in range(1, len(numeros), 2))\n",
    "    \n",
    "    # Retorna as duas somas como um par de valores.\n",
    "    return soma_pares, soma_impares\n",
    "\n",
    "# Cria uma lista de números para serem usados como exemplo.\n",
    "lista = [10, 15, 20, 25, 30, 35, 40]\n",
    "\n",
    "# Chama a função 'soma_pares_impares' passando a \n",
    "        # lista 'lista' como argumento.\n",
    "# Desempacota o resultado retornado em duas \n",
    "        # variáveis: 'soma_pares' e 'soma_impares'.\n",
    "soma_pares, soma_impares = soma_pares_impares(lista)\n",
    "\n",
    "# Imprime a soma dos elementos que estão nos índices pares.\n",
    "print(f\"Soma dos elementos em índices pares: {soma_pares}\")\n",
    "\n",
    "# Imprime a soma dos elementos que estão nos índices ímpares.\n",
    "print(f\"Soma dos elementos em índices ímpares: {soma_impares}\")"
   ]
  },
  {
   "cell_type": "code",
   "execution_count": null,
   "id": "3240596a-e831-41bd-99d3-6d10025abe20",
   "metadata": {},
   "outputs": [],
   "source": []
  }
 ],
 "metadata": {
  "kernelspec": {
   "display_name": "Python 3 (ipykernel)",
   "language": "python",
   "name": "python3"
  },
  "language_info": {
   "codemirror_mode": {
    "name": "ipython",
    "version": 3
   },
   "file_extension": ".py",
   "mimetype": "text/x-python",
   "name": "python",
   "nbconvert_exporter": "python",
   "pygments_lexer": "ipython3",
   "version": "3.11.7"
  }
 },
 "nbformat": 4,
 "nbformat_minor": 5
}
