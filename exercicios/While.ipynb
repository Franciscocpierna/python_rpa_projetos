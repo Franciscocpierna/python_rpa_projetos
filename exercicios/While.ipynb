{
 "cells": [
  {
   "cell_type": "code",
   "execution_count": 2,
   "id": "44a4ad4a-4f01-4d3e-ab70-38670c88473a",
   "metadata": {},
   "outputs": [
    {
     "name": "stdout",
     "output_type": "stream",
     "text": [
      "1\n",
      "2\n",
      "3\n",
      "4\n",
      "5\n",
      "6\n",
      "7\n",
      "8\n",
      "9\n",
      "10\n"
     ]
    }
   ],
   "source": [
    "\"\"\"\n",
    "Exercício 1: Contagem de 1 a 10\n",
    "\n",
    "Escreva um programa que conte de 1 a 10 utilizando o laço while.\n",
    "\"\"\"\n",
    "\n",
    "# Inicializa a variável 'contador' com o valor 1. \n",
    "# Esta variável será usada para controlar o loop e \n",
    "        # imprimir os números de 1 a 10.\n",
    "contador = 1\n",
    "\n",
    "# Inicia o laço while, que irá executar enquanto o valor \n",
    "        # de 'contador' for menor ou igual a 10.\n",
    "# O laço permite que o bloco de código interno seja \n",
    "        # repetido enquanto a condição for verdadeira.\n",
    "while contador <= 10:\n",
    "    \n",
    "    # Imprime o valor atual de 'contador' a cada iteração do laço.\n",
    "    # Isso resultará na impressão dos números de 1 a 10, um em cada linha.\n",
    "    print(contador)\n",
    "    \n",
    "    # Incrementa o valor de 'contador' em 1 após cada iteração.\n",
    "    # Esse incremento é crucial para evitar um loop \n",
    "            # infinito e avançar o valor de 'contador'.\n",
    "    contador += 1"
   ]
  },
  {
   "cell_type": "code",
   "execution_count": null,
   "id": "7ae207a8-131a-4b7d-bce7-8fd89ff4faa4",
   "metadata": {},
   "outputs": [],
   "source": []
  },
  {
   "cell_type": "code",
   "execution_count": 5,
   "id": "2969d1ad-2f6f-4f82-b7c1-e4ad62013e73",
   "metadata": {},
   "outputs": [
    {
     "name": "stdin",
     "output_type": "stream",
     "text": [
      "Digite um número (0 para sair):  10\n",
      "Digite outro número (0 para sair):  5\n",
      "Digite outro número (0 para sair):  30\n",
      "Digite outro número (0 para sair):  9\n",
      "Digite outro número (0 para sair):  9\n",
      "Digite outro número (0 para sair):  10\n",
      "Digite outro número (0 para sair):  0\n"
     ]
    },
    {
     "name": "stdout",
     "output_type": "stream",
     "text": [
      "A soma total é: 73.0\n"
     ]
    }
   ],
   "source": [
    "\"\"\"\n",
    "Exercício 2: Somar números até o usuário digitar 0\n",
    "\n",
    "Peça ao usuário para digitar números. \n",
    "\n",
    "Some esses números até que o usuário digite 0. Ao final, exiba a soma total.\n",
    "\"\"\"\n",
    "\n",
    "# Inicializa a variável 'soma' com o valor 0.\n",
    "# Esta variável será usada para armazenar a soma dos \n",
    "        # números digitados pelo usuário.\n",
    "soma = 0\n",
    "\n",
    "# Solicita ao usuário o primeiro número e o converte para um float. \n",
    "# O programa irá terminar se o valor 0 for digitado inicialmente.\n",
    "numero = float(input(\"Digite um número (0 para sair): \"))\n",
    "\n",
    "# Inicia o laço while que continuará executando enquanto o \n",
    "        # valor de 'numero' for diferente de 0.\n",
    "# O laço permite a soma contínua dos números digitados \n",
    "        # até que o usuário decida sair digitando 0.\n",
    "while numero != 0:\n",
    "    \n",
    "    # Adiciona o valor digitado pelo usuário à variável 'soma'.\n",
    "    soma += numero\n",
    "    \n",
    "    # Solicita ao usuário que digite outro número. \n",
    "    # O processo se repete: a entrada é convertida para float\n",
    "            # e adicionada à soma se não for 0.\n",
    "    numero = float(input(\"Digite outro número (0 para sair): \"))\n",
    "\n",
    "# Após sair do laço, imprime a soma total dos números digitados.\n",
    "# O uso de f-string facilita a inclusão de variáveis \n",
    "        # dentro de strings para serem exibidas.\n",
    "print(f\"A soma total é: {soma}\")"
   ]
  },
  {
   "cell_type": "code",
   "execution_count": null,
   "id": "f06c096a-d8a8-43fe-bec3-4645afe2a114",
   "metadata": {},
   "outputs": [],
   "source": []
  },
  {
   "cell_type": "code",
   "execution_count": 6,
   "id": "8e5a42fd-1e38-4a2d-9424-8f454fb4bc78",
   "metadata": {},
   "outputs": [
    {
     "name": "stdin",
     "output_type": "stream",
     "text": [
      "Digite a senha:  555\n"
     ]
    },
    {
     "name": "stdout",
     "output_type": "stream",
     "text": [
      "Senha incorreta. Tente novamente.\n"
     ]
    },
    {
     "name": "stdin",
     "output_type": "stream",
     "text": [
      "Digite a senha:  987\n"
     ]
    },
    {
     "name": "stdout",
     "output_type": "stream",
     "text": [
      "Senha incorreta. Tente novamente.\n"
     ]
    },
    {
     "name": "stdin",
     "output_type": "stream",
     "text": [
      "Digite a senha:  jhkhh\n"
     ]
    },
    {
     "name": "stdout",
     "output_type": "stream",
     "text": [
      "Senha incorreta. Tente novamente.\n"
     ]
    },
    {
     "name": "stdin",
     "output_type": "stream",
     "text": [
      "Digite a senha:  Teste\n"
     ]
    },
    {
     "name": "stdout",
     "output_type": "stream",
     "text": [
      "Senha incorreta. Tente novamente.\n"
     ]
    },
    {
     "name": "stdin",
     "output_type": "stream",
     "text": [
      "Digite a senha:  python123\n"
     ]
    },
    {
     "name": "stdout",
     "output_type": "stream",
     "text": [
      "Senha correta. Acesso permitido.\n"
     ]
    }
   ],
   "source": [
    "\"\"\"\n",
    "Exercício 3: Senha correta\n",
    "\n",
    "Peça ao usuário para digitar uma senha. \n",
    "\n",
    "Continue pedindo até que ele digite a senha correta (\"python123\").\n",
    "\"\"\"\n",
    "\n",
    "# Solicita ao usuário que digite uma senha inicialmente.\n",
    "# A função 'input' é usada para capturar a entrada \n",
    "        # do usuário como uma string.\n",
    "senha = input(\"Digite a senha: \")\n",
    "\n",
    "# Inicia um laço while que irá executar enquanto o valor \n",
    "        # de 'senha' for diferente de \"python123\".\n",
    "# O laço permite repetir a solicitação da senha até que a \n",
    "        # condição seja satisfeita (senha correta).\n",
    "while senha != \"python123\":\n",
    "    \n",
    "    # Exibe uma mensagem informando que a senha é incorreta.\n",
    "    # Esta linha é executada se a senha inserida pelo usuário \n",
    "            # não corresponder à senha correta.\n",
    "    print(\"Senha incorreta. Tente novamente.\")\n",
    "    \n",
    "    # Solicita novamente que o usuário digite a senha. \n",
    "    # O laço não será encerrado até que o usuário digite a \n",
    "            # senha correta (\"python123\").\n",
    "    senha = input(\"Digite a senha: \")\n",
    "\n",
    "# Quando a senha correta é digitada, o laço é interrompido e \n",
    "        # o programa continua.\n",
    "# Exibe uma mensagem indicando que a senha está correta e \n",
    "        # o acesso é permitido.\n",
    "print(\"Senha correta. Acesso permitido.\")"
   ]
  },
  {
   "cell_type": "code",
   "execution_count": null,
   "id": "796cdfab-2cb9-429b-ac69-51dad61c02e5",
   "metadata": {},
   "outputs": [],
   "source": []
  },
  {
   "cell_type": "code",
   "execution_count": 9,
   "id": "86d27a8a-63d5-412b-a4fb-092e9b709bfb",
   "metadata": {},
   "outputs": [
    {
     "name": "stdin",
     "output_type": "stream",
     "text": [
      "Digite um número entre 1 e 10:  12\n"
     ]
    },
    {
     "name": "stdout",
     "output_type": "stream",
     "text": [
      "Número inválido.\n"
     ]
    },
    {
     "name": "stdin",
     "output_type": "stream",
     "text": [
      "Digite um número entre 1 e 10:  90\n"
     ]
    },
    {
     "name": "stdout",
     "output_type": "stream",
     "text": [
      "Número inválido.\n"
     ]
    },
    {
     "name": "stdin",
     "output_type": "stream",
     "text": [
      "Digite um número entre 1 e 10:  45\n"
     ]
    },
    {
     "name": "stdout",
     "output_type": "stream",
     "text": [
      "Número inválido.\n"
     ]
    },
    {
     "name": "stdin",
     "output_type": "stream",
     "text": [
      "Digite um número entre 1 e 10:  245\n"
     ]
    },
    {
     "name": "stdout",
     "output_type": "stream",
     "text": [
      "Número inválido.\n"
     ]
    },
    {
     "name": "stdin",
     "output_type": "stream",
     "text": [
      "Digite um número entre 1 e 10:  8\n"
     ]
    },
    {
     "name": "stdout",
     "output_type": "stream",
     "text": [
      "Número válido: 8\n"
     ]
    }
   ],
   "source": [
    "\"\"\"\n",
    "Exercício 4: Número entre 1 e 10\n",
    "\n",
    "Peça ao usuário para digitar um número entre 1 e 10. \n",
    "\n",
    "Continue pedindo até que ele forneça um número válido.\n",
    "\"\"\"\n",
    "\n",
    "# Solicita ao usuário que digite um número e converte essa \n",
    "        # entrada diretamente para um inteiro usando a função 'int'.\n",
    "# A função 'input' captura a entrada como uma string, então 'int' é \n",
    "        # usado para converter essa string em um número inteiro.\n",
    "numero = int(input(\"Digite um número entre 1 e 10: \"))\n",
    "\n",
    "# Inicia um laço while que verificará se o número inserido \n",
    "        # está fora do intervalo aceitável (1 a 10).\n",
    "# A condição do laço usa operadores lógicos 'or' para \n",
    "        # testar se o número é menor que 1 ou maior que 10.\n",
    "while numero < 1 or numero > 10:\n",
    "    \n",
    "    # Se o número estiver fora do intervalo, uma mensagem \n",
    "            # de \"Número inválido.\" é impressa para o usuário.\n",
    "    # Esta linha é executada sempre que a entrada do usuário \n",
    "            # não atender aos critérios de validação.\n",
    "    print(\"Número inválido.\")\n",
    "    \n",
    "    # Solicita novamente ao usuário que forneça um número, \n",
    "            # repetindo o processo de entrada e verificação.\n",
    "    # O laço continuará pedindo um novo número até que \n",
    "            # um válido seja fornecido.\n",
    "    numero = int(input(\"Digite um número entre 1 e 10: \"))\n",
    "\n",
    "# Quando um número válido é inserido (um número entre 1 e 10), o \n",
    "        # laço 'while' é encerrado.\n",
    "# A seguir, o programa imprime uma confirmação de \n",
    "        # que o número inserido é válido.\n",
    "print(f\"Número válido: {numero}\")"
   ]
  },
  {
   "cell_type": "code",
   "execution_count": null,
   "id": "39b44f06-03c3-4a08-b283-4281f09d9af7",
   "metadata": {},
   "outputs": [],
   "source": []
  },
  {
   "cell_type": "code",
   "execution_count": 12,
   "id": "71525697-0288-493a-bf0b-20a3ddc691fd",
   "metadata": {},
   "outputs": [
    {
     "name": "stdout",
     "output_type": "stream",
     "text": [
      "10\n",
      "9\n",
      "8\n",
      "7\n",
      "6\n",
      "5\n",
      "4\n",
      "3\n",
      "2\n",
      "1\n"
     ]
    }
   ],
   "source": [
    "\"\"\"\n",
    "Exercício 5: Contagem regressiva de 10 a 1\n",
    "\n",
    "Escreva um programa que faça uma contagem regressiva de 10 até 1, utilizando o while.\n",
    "\"\"\"\n",
    "\n",
    "# Inicializa a variável 'contador' com o valor 10.\n",
    "# Esta variável será usada para controlar a contagem \n",
    "        # regressiva, começando do número 10.\n",
    "contador = 10\n",
    "\n",
    "# Define um laço while que irá executar enquanto o valor \n",
    "        # de 'contador' for maior ou igual a 1.\n",
    "# O laço while permite repetir um bloco de código enquanto \n",
    "        # uma condição específica for verdadeira.\n",
    "while contador >= 1:\n",
    "    \n",
    "    # Imprime o valor atual de 'contador' na tela.\n",
    "    # A cada iteração do laço, o valor de 'contador' é mostrado, \n",
    "            # começando de 10 e indo até 1.\n",
    "    print(contador)\n",
    "    \n",
    "    # Decrementa o valor de 'contador' em 1 a cada iteração do laço.\n",
    "    # Esta operação é crucial para garantir que a contagem seja \n",
    "            # regressiva e que o laço eventualmente termine.\n",
    "    # contador = contador - 1 \n",
    "    contador -= 1"
   ]
  },
  {
   "cell_type": "code",
   "execution_count": null,
   "id": "12e34706-4fa9-416b-93ab-61c46cc7c7b6",
   "metadata": {},
   "outputs": [],
   "source": []
  },
  {
   "cell_type": "code",
   "execution_count": 15,
   "id": "69b4e2aa-a679-43d6-a8b0-488aaffde71e",
   "metadata": {},
   "outputs": [
    {
     "name": "stdout",
     "output_type": "stream",
     "text": [
      "A soma dos números pares de 1 a 100 é: 2550\n"
     ]
    }
   ],
   "source": [
    "\"\"\"\n",
    "Exercício 6: Somar números pares de 1 a 100\n",
    "\n",
    "Escreva um programa que some todos os números \n",
    "pares de 1 a 100, utilizando o while.\n",
    "\"\"\"\n",
    "\n",
    "# Inicializa a variável 'soma' com 0. Esta variável acumulará a \n",
    "        # soma dos números pares.\n",
    "soma = 0\n",
    "\n",
    "# Inicializa a variável 'numero' com 2, que é o menor número par maior que 1.\n",
    "# Começamos com 2 porque é o primeiro número par no intervalo de interesse.\n",
    "numero = 2\n",
    "\n",
    "# Define um laço while que continuará enquanto 'numero' for menor ou igual a 100.\n",
    "# Este laço permite iterar sobre todos os números pares de 2 a 100.\n",
    "while numero <= 100:\n",
    "    \n",
    "    # Adiciona o valor atual de 'numero' à variável 'soma'.\n",
    "    # Em cada iteração, o número par atual é somado ao total acumulado em 'soma'.\n",
    "    # soma = soma + numero\n",
    "    soma += numero\n",
    "    \n",
    "    # Incrementa 'numero' em 2 para pular para o próximo número par.\n",
    "    # Isso garante que apenas números pares sejam considerados na \n",
    "            # soma, evitando a necessidade de verificar se o número é par.\n",
    "    numero += 2\n",
    "\n",
    "# Após completar o laço, imprime o resultado final da soma \n",
    "        # dos números pares.\n",
    "# A função f-string é usada para formatar a saída, incluindo a \n",
    "        # variável 'soma' no texto a ser impresso.\n",
    "print(f\"A soma dos números pares de 1 a 100 é: {soma}\")"
   ]
  },
  {
   "cell_type": "code",
   "execution_count": null,
   "id": "bca43ffa-abdb-4767-a2f1-29f4bc742c4a",
   "metadata": {},
   "outputs": [],
   "source": []
  },
  {
   "cell_type": "code",
   "execution_count": 23,
   "id": "712c6780-a35d-4620-a11e-319775464a35",
   "metadata": {},
   "outputs": [
    {
     "name": "stdin",
     "output_type": "stream",
     "text": [
      "Digite um número inteiro positivo:  1000000\n"
     ]
    },
    {
     "name": "stdout",
     "output_type": "stream",
     "text": [
      "O número tem 7 digitos.\n"
     ]
    }
   ],
   "source": [
    "\"\"\"\n",
    "Exercício 7: Contar dígitos de um número\n",
    "\n",
    "Peça ao usuário para digitar um número inteiro positivo. \n",
    "\n",
    "Use while para contar quantos dígitos o número tem.\n",
    "\"\"\"\n",
    "\n",
    "# Solicita ao usuário que digite um número inteiro positivo e \n",
    "        # converte a entrada de string para inteiro.\n",
    "# O programa presume que o usuário seguirá a instrução e \n",
    "        # digitará um número inteiro positivo.\n",
    "numero = int(input(\"Digite um número inteiro positivo: \"))\n",
    "\n",
    "# Inicializa a variável 'contador' em 0.\n",
    "# Esta variável será usada para contar o número de \n",
    "        # dígitos no número fornecido.\n",
    "contador = 0\n",
    "\n",
    "# Inicia um laço while que executará enquanto o valor \n",
    "        # de 'numero' for maior que 0.\n",
    "# A condição garante que o laço continue até que o \n",
    "        # número seja reduzido a 0.\n",
    "while numero > 0:\n",
    "    \n",
    "    # Utiliza a operação de divisão inteira para remover o \n",
    "            # último dígito do número.\n",
    "    # Por exemplo, 123 // 10 resulta em 12, efetivamente removendo o \n",
    "            # dígito mais à direita (3 neste caso).\n",
    "    numero //= 10\n",
    "    \n",
    "    # Incrementa o contador em 1 a cada iteração do laço.\n",
    "    # Cada iteração corresponde à remoção de um dígito do número, \n",
    "            # portanto, isso conta efetivamente cada dígito.\n",
    "    contador += 1\n",
    "\n",
    "# Após o término do laço (quando não houverem mais dígitos no \n",
    "        # número), imprime o total de dígitos contados.\n",
    "# A saída utiliza uma f-string para formatar a mensagem, \n",
    "        # inserindo o valor da variável 'contador'.\n",
    "print(f\"O número tem {contador} dígitos.\")"
   ]
  },
  {
   "cell_type": "code",
   "execution_count": null,
   "id": "330876d1-49fc-4a1c-a8d9-972b4f22bd94",
   "metadata": {},
   "outputs": [],
   "source": []
  },
  {
   "cell_type": "code",
   "execution_count": 29,
   "id": "65d4c925-8103-43df-bbf8-0b67b93bfccf",
   "metadata": {},
   "outputs": [
    {
     "name": "stdin",
     "output_type": "stream",
     "text": [
      "Digite um número para ver a tabuada:  5\n"
     ]
    },
    {
     "name": "stdout",
     "output_type": "stream",
     "text": [
      "5 x 1 = 5\n",
      "5 x 2 = 10\n",
      "5 x 3 = 15\n",
      "5 x 4 = 20\n",
      "5 x 5 = 25\n",
      "5 x 6 = 30\n",
      "5 x 7 = 35\n",
      "5 x 8 = 40\n",
      "5 x 9 = 45\n",
      "5 x 10 = 50\n"
     ]
    }
   ],
   "source": [
    "\"\"\"\n",
    "Exercício 8: Multiplicação sucessiva\n",
    "\n",
    "Escreva um programa que peça um número e exiba sua \n",
    "tabuada (de 1 a 10) usando o while.\n",
    "\"\"\"\n",
    "\n",
    "# Solicita ao usuário que digite um número. A entrada é \n",
    "        # convertida de string para inteiro usando a função 'int'.\n",
    "# Este número será usado para calcular a tabuada.\n",
    "numero = int(input(\"Digite um número para ver a tabuada: \"))\n",
    "\n",
    "# Inicializa a variável 'contador' com 1. Esta variável será \n",
    "        # usada para controlar o loop de 1 a 10.\n",
    "contador = 1\n",
    "\n",
    "# Inicia um laço while que continuará enquanto 'contador' \n",
    "        # for menor ou igual a 10.\n",
    "# Isso garante que o loop se repetirá exatamente 10 vezes, \n",
    "        # gerando a tabuada do número de 1 a 10.\n",
    "while contador <= 10:\n",
    "    \n",
    "    # Imprime uma linha da tabuada no formato 'numero x contador = resultado'.\n",
    "    # O uso de f-string aqui permite a inserção direta das \n",
    "            # variáveis e do cálculo no texto final.\n",
    "    print(f\"{numero} x {contador} = {numero * contador}\")\n",
    "    \n",
    "    # Incrementa 'contador' por 1 em cada iteração.\n",
    "    # Isso move o 'contador' para o próximo número na \n",
    "            # sequência da tabuada, até o máximo de 10.\n",
    "    contador += 1"
   ]
  },
  {
   "cell_type": "code",
   "execution_count": null,
   "id": "5b11d899-c00e-4609-805f-fadec2ac0142",
   "metadata": {},
   "outputs": [],
   "source": []
  },
  {
   "cell_type": "code",
   "execution_count": 35,
   "id": "3a9de16b-b328-4ade-ba23-e3cef732505d",
   "metadata": {},
   "outputs": [
    {
     "name": "stdin",
     "output_type": "stream",
     "text": [
      "Digite sua idade:  200\n"
     ]
    },
    {
     "name": "stdout",
     "output_type": "stream",
     "text": [
      "Idade inválida.\n"
     ]
    },
    {
     "name": "stdin",
     "output_type": "stream",
     "text": [
      "Digite sua idade:  50\n"
     ]
    },
    {
     "name": "stdout",
     "output_type": "stream",
     "text": [
      "Idade válida: 50\n"
     ]
    }
   ],
   "source": [
    "\"\"\"\n",
    "Exercício 9: Validar entrada de idade\n",
    "\n",
    "Peça ao usuário para digitar sua idade. Continue pedindo \n",
    "até que ele forneça uma idade válida (um número entre 0 e 120).\n",
    "\"\"\"\n",
    "\n",
    "# Solicita ao usuário que digite sua idade. A entrada é capturada \n",
    "        # como uma string e convertida para um inteiro.\n",
    "# Assume-se que o usuário entrará com um valor numérico; \n",
    "        # caso contrário, isso gerará um erro.\n",
    "idade = int(input(\"Digite sua idade: \"))\n",
    "\n",
    "# Inicia um laço while que continuará enquanto o valor \n",
    "        # de 'idade' estiver fora do intervalo aceitável (0 a 120 anos).\n",
    "# O laço permite repetir a solicitação de entrada até \n",
    "        # que uma idade válida seja fornecida.\n",
    "while idade < 0 or idade > 120:\n",
    "    \n",
    "    # Informa ao usuário que a idade inserida é inválida.\n",
    "    print(\"Idade inválida.\")\n",
    "    \n",
    "    # Solicita novamente ao usuário que forneça uma idade, \n",
    "            # repetindo o processo de entrada e verificação.\n",
    "    # A nova entrada também é convertida de string para inteiro.\n",
    "    idade = int(input(\"Digite uma idade válida (entre 0 e 120): \"))\n",
    "\n",
    "# Após a entrada satisfazer a condição do \n",
    "        # intervalo (0 a 120), o laço é encerrado.\n",
    "# Imprime a confirmação de que a idade inserida é válida.\n",
    "print(f\"Idade válida: {idade}\")"
   ]
  },
  {
   "cell_type": "code",
   "execution_count": null,
   "id": "b036af3b-11b2-4fec-8e1d-3d5fdc9f204f",
   "metadata": {},
   "outputs": [],
   "source": []
  },
  {
   "cell_type": "code",
   "execution_count": 36,
   "id": "be323e24-5610-4e00-af91-e033486ad56f",
   "metadata": {},
   "outputs": [
    {
     "name": "stdin",
     "output_type": "stream",
     "text": [
      "Adivinhe o número secreto (entre 1 e 10):  10\n"
     ]
    },
    {
     "name": "stdout",
     "output_type": "stream",
     "text": [
      "Palpite incorreto. Tente novamente.\n"
     ]
    },
    {
     "name": "stdin",
     "output_type": "stream",
     "text": [
      "Adivinhe o número secreto (entre 1 e 10):  5\n"
     ]
    },
    {
     "name": "stdout",
     "output_type": "stream",
     "text": [
      "Palpite incorreto. Tente novamente.\n"
     ]
    },
    {
     "name": "stdin",
     "output_type": "stream",
     "text": [
      "Adivinhe o número secreto (entre 1 e 10):  12\n"
     ]
    },
    {
     "name": "stdout",
     "output_type": "stream",
     "text": [
      "Palpite incorreto. Tente novamente.\n"
     ]
    },
    {
     "name": "stdin",
     "output_type": "stream",
     "text": [
      "Adivinhe o número secreto (entre 1 e 10):  20\n"
     ]
    },
    {
     "name": "stdout",
     "output_type": "stream",
     "text": [
      "Palpite incorreto. Tente novamente.\n"
     ]
    },
    {
     "name": "stdin",
     "output_type": "stream",
     "text": [
      "Adivinhe o número secreto (entre 1 e 10):  50\n"
     ]
    },
    {
     "name": "stdout",
     "output_type": "stream",
     "text": [
      "Palpite incorreto. Tente novamente.\n"
     ]
    },
    {
     "name": "stdin",
     "output_type": "stream",
     "text": [
      "Adivinhe o número secreto (entre 1 e 10):  7\n"
     ]
    },
    {
     "name": "stdout",
     "output_type": "stream",
     "text": [
      "Parabéns! Você acertou o número secreto.\n"
     ]
    }
   ],
   "source": [
    "\"\"\"\n",
    "Exercício 10: Adivinhar número secreto\n",
    "\n",
    "Escreva um programa que peça ao usuário para adivinhar um número \n",
    "secreto (por exemplo, 7). Continue pedindo até que ele acerte.\n",
    "\"\"\"\n",
    "\n",
    "# Define o número secreto. Neste caso, escolhemos o número 7.\n",
    "# Este valor é fixo no código, o que significa que cada \n",
    "        # execução do programa terá o mesmo número secreto.\n",
    "numero_secreto = 7\n",
    "\n",
    "# Solicita ao usuário um palpite para o número secreto. \n",
    "        # A entrada é capturada como string e convertida para inteiro.\n",
    "# O programa presume que o usuário seguirá a instrução e \n",
    "        # inserirá um valor numérico entre 1 e 10.\n",
    "palpite = int(input(\"Adivinhe o número secreto (entre 1 e 10): \"))\n",
    "\n",
    "# Inicia um laço while que continuará enquanto o 'palpite' \n",
    "        # do usuário for diferente do 'numero_secreto'.\n",
    "# Isso permite que o usuário continue tentando até acertar o número.\n",
    "while palpite != numero_secreto:\n",
    "    \n",
    "    # Informa ao usuário que o palpite foi incorreto.\n",
    "    print(\"Palpite incorreto. Tente novamente.\")\n",
    "    \n",
    "    # Solicita ao usuário que faça outro palpite.\n",
    "    # O programa repetirá esse pedido até que o usuário acerte o número.\n",
    "    palpite = int(input(\"Adivinhe o número secreto (entre 1 e 10): \"))\n",
    "\n",
    "# Quando o usuário acerta o número secreto, o laço while é encerrado.\n",
    "# Imprime uma mensagem parabenizando o usuário por acertar o número.\n",
    "print(\"Parabéns! Você acertou o número secreto.\")"
   ]
  },
  {
   "cell_type": "code",
   "execution_count": null,
   "id": "d608502e-6ad3-4b5a-b13d-1b2083f39d75",
   "metadata": {},
   "outputs": [],
   "source": []
  },
  {
   "cell_type": "code",
   "execution_count": 45,
   "id": "d8148bba-08fb-4568-81e7-e901bd4dfc26",
   "metadata": {},
   "outputs": [
    {
     "name": "stdin",
     "output_type": "stream",
     "text": [
      "Digite um número decimal:  5\n"
     ]
    },
    {
     "name": "stdout",
     "output_type": "stream",
     "text": [
      "O número em binário é: 101\n"
     ]
    }
   ],
   "source": [
    "\"\"\"\n",
    "Exercício 11: Converter decimal para binário\n",
    "\n",
    "Peça ao usuário um número decimal e converta-o para binário usando o while.\n",
    "\"\"\"\n",
    "\n",
    "# Solicita ao usuário que insira um número decimal. A entrada é \n",
    "        # capturada como string e convertida para inteiro.\n",
    "# Assume-se que o usuário inserirá um número decimal válido.\n",
    "numero = int(input(\"Digite um número decimal: \"))\n",
    "\n",
    "# Inicializa a variável 'binario' como uma string vazia.\n",
    "# Esta variável será usada para construir a representação \n",
    "        # binária do número a partir dos restos da divisão.\n",
    "binario = \"\"\n",
    "\n",
    "# Inicia um laço while que continuará enquanto 'numero' \n",
    "        # for maior que 0.\n",
    "# O laço permite decompor o número em seus componentes \n",
    "        # binários através de divisões sucessivas por 2.\n",
    "while numero > 0:\n",
    "    \n",
    "    # Calcula o resto da divisão do número por 2 (0 ou 1) e \n",
    "            # concatena esse valor ao início da string 'binario'.\n",
    "    # O operador '%' é usado para obter o resto da divisão, \n",
    "            # que representa o bit menos significativo atual.\n",
    "    binario = str(numero % 2) + binario\n",
    "    \n",
    "    # Utiliza a divisão inteira por 2 para reduzir o 'numero' \n",
    "            # pela metade, descartando o bit menos significativo já processado.\n",
    "    # O operador '//=' é uma forma abreviada de 'numero = numero // 2'.\n",
    "    numero //= 2\n",
    "\n",
    "# Após o término do laço (quando 'numero' é 0), imprime o \n",
    "        # resultado da conversão binária.\n",
    "# Usa uma f-string para formatar a saída, incluindo a \n",
    "        # representação binária na mensagem final.\n",
    "print(f\"O número em binário é: {binario}\")"
   ]
  },
  {
   "cell_type": "code",
   "execution_count": null,
   "id": "bbe4f138-7fd0-454a-ab2c-aabd2cbedf22",
   "metadata": {},
   "outputs": [],
   "source": []
  },
  {
   "cell_type": "code",
   "execution_count": 48,
   "id": "f49ed42f-3f5b-413e-8a57-977441025b42",
   "metadata": {},
   "outputs": [
    {
     "name": "stdin",
     "output_type": "stream",
     "text": [
      "Digite uma string:  eu amo python\n"
     ]
    },
    {
     "name": "stdout",
     "output_type": "stream",
     "text": [
      "A string invertida é: nohtyp oma ue\n"
     ]
    }
   ],
   "source": [
    "\"\"\"\n",
    "Exercício 12: Inverter uma string\n",
    "\n",
    "Peça ao usuário para digitar uma string e exiba-a invertida utilizando o while.\n",
    "\"\"\"\n",
    "\n",
    "# Solicita ao usuário que digite uma string. A entrada é \n",
    "        # capturada como uma string.\n",
    "# Assume-se que qualquer entrada, incluindo uma \n",
    "        # string vazia, é válida.\n",
    "string = input(\"Digite uma string: \")\n",
    "\n",
    "# Inicializa a variável 'invertida' como uma string vazia.\n",
    "# Esta variável armazenará a string original \n",
    "        # invertida, caracter por caracter.\n",
    "invertida = \"\"\n",
    "\n",
    "# Determina o índice do último caracter na string original.\n",
    "# O 'len(string) - 1' fornece o índice do último \n",
    "        # caracter porque os índices começam em 0.\n",
    "i = len(string) - 1\n",
    "\n",
    "# Inicia um laço while que continuará enquanto o \n",
    "        # índice 'i' for maior ou igual a zero.\n",
    "# Este laço percorre a string da direita para a esquerda.\n",
    "while i >= 0:\n",
    "    \n",
    "    # Concatena o caracter atual, indicado \n",
    "            # por 'string[i]', à string 'invertida'.\n",
    "    # Isso adiciona cada caracter ao início da string 'invertida', \n",
    "            # efetivamente invertendo a ordem.\n",
    "    invertida += string[i]\n",
    "    \n",
    "    # Decrementa o índice 'i' em 1 a cada iteração, movendo \n",
    "            # para o caracter anterior na string original.\n",
    "    i -= 1\n",
    "\n",
    "# Após o término do laço (quando 'i' é menor que 0), \n",
    "        # imprime a string invertida.\n",
    "# Usa uma f-string para formatar a saída, incluindo a \n",
    "        # string invertida na mensagem final.\n",
    "print(f\"A string invertida é: {invertida}\")"
   ]
  },
  {
   "cell_type": "code",
   "execution_count": null,
   "id": "430eb9fe-1080-4234-8cb3-a72e48911d31",
   "metadata": {},
   "outputs": [],
   "source": []
  },
  {
   "cell_type": "code",
   "execution_count": 53,
   "id": "53614b59-65a1-49fa-97a1-c8e16ba97319",
   "metadata": {},
   "outputs": [
    {
     "name": "stdin",
     "output_type": "stream",
     "text": [
      "Digite uma string:  otorrinolaringologista\n",
      "Digite um caractere:  o\n"
     ]
    },
    {
     "name": "stdout",
     "output_type": "stream",
     "text": [
      "O caractere 'o' aparece 5 vezes na string.\n"
     ]
    }
   ],
   "source": [
    "\"\"\"\n",
    "Exercício 13: Contar quantas vezes um caractere aparece em uma string\n",
    "\n",
    "Peça ao usuário uma string e um caractere, e conte quantas \n",
    "vezes esse caractere aparece na string.\n",
    "\"\"\"\n",
    "\n",
    "# Solicita ao usuário que digite uma string.\n",
    "# A entrada é capturada como uma string.\n",
    "string = input(\"Digite uma string: \")\n",
    "\n",
    "# Solicita ao usuário que digite um caractere.\n",
    "# Assume-se que o usuário inserirá apenas um único caractere.\n",
    "caractere = input(\"Digite um caractere: \")\n",
    "\n",
    "# Inicializa a variável 'contador' em 0.\n",
    "# Esta variável será usada para contar o número de \n",
    "        # vezes que o caractere aparece na string.\n",
    "contador = 0\n",
    "\n",
    "# Inicializa a variável 'i' em 0.\n",
    "# Esta variável será usada para indexar cada posição \n",
    "        # na string durante o loop.\n",
    "i = 0\n",
    "\n",
    "# Inicia um laço while que continuará enquanto 'i' for \n",
    "        # menor que o comprimento da string.\n",
    "# Este laço percorre a string caracter por caracter.\n",
    "while i < len(string):\n",
    "    \n",
    "    # Verifica se o caractere na posição atual 'i' é \n",
    "            # igual ao caractere fornecido.\n",
    "    if string[i] == caractere:\n",
    "        \n",
    "        # Se forem iguais, incrementa o 'contador' em 1.\n",
    "        contador += 1\n",
    "        \n",
    "    # Incrementa 'i' em 1 a cada iteração, movendo para o \n",
    "            # próximo caractere na string.\n",
    "    i += 1\n",
    "\n",
    "# Após o término do laço, imprime o número total de vezes \n",
    "        # que o caractere aparece na string.\n",
    "# Usa uma f-string para formatar a saída, inserindo o \n",
    "        # caractere e o valor do contador na mensagem.\n",
    "print(f\"O caractere '{caractere}' aparece {contador} vezes na string.\")"
   ]
  },
  {
   "cell_type": "code",
   "execution_count": null,
   "id": "567aa185-21a6-48b5-8e80-cebdc61c0cc2",
   "metadata": {},
   "outputs": [],
   "source": []
  },
  {
   "cell_type": "code",
   "execution_count": 55,
   "id": "8ca06e56-6120-4ff9-b9c7-edea201e2836",
   "metadata": {},
   "outputs": [
    {
     "name": "stdin",
     "output_type": "stream",
     "text": [
      "Digite um número (0 para encerrar):  5\n",
      "Digite um número (0 para encerrar):  5\n",
      "Digite um número (0 para encerrar):  5\n",
      "Digite um número (0 para encerrar):  0\n"
     ]
    },
    {
     "name": "stdout",
     "output_type": "stream",
     "text": [
      "A média dos números positivos é: 5.00\n"
     ]
    }
   ],
   "source": [
    "\"\"\"\n",
    "Exercício 14: Média de números positivos\n",
    "\n",
    "Peça ao usuário uma sequência de números e calcule a \n",
    "média apenas dos números positivos. O loop termina quando o usuário digitar 0.\n",
    "\"\"\"\n",
    "\n",
    "\n",
    "# Inicia um laço while que continuará enquanto o valor \n",
    "        # de 'numero' for diferente de 0.\n",
    "# O número 0 serve como condição de parada para \n",
    "        # encerrar a inserção de números.\n",
    "while numero != 0:\n",
    "    \n",
    "    # Verifica se o número digitado é positivo.\n",
    "    if numero > 0:\n",
    "        \n",
    "        # Se o número for positivo, adiciona o valor à 'soma' e \n",
    "                # incrementa o 'contador' em 1.\n",
    "        soma += numero\n",
    "        contador += 1\n",
    "        \n",
    "    # Solicita ao usuário que digite outro número após cada iteração.\n",
    "    # O loop continuará até que o usuário digite 0.\n",
    "    numero = float(input(\"Digite outro número (0 para encerrar): \"))\n",
    "\n",
    "# Após sair do laço, verifica se algum número positivo \n",
    "        # foi digitado verificando o 'contador'.\n",
    "if contador > 0:\n",
    "    \n",
    "    # Se o contador for maior que zero, calcula a média \n",
    "            # dividindo a 'soma' pelo 'contador'.\n",
    "    media = soma / contador\n",
    "    \n",
    "    # Imprime a média dos números positivos, formatada \n",
    "            # com duas casas decimais.\n",
    "    print(f\"A média dos números positivos é: {media:.2f}\")\n",
    "    \n",
    "else:\n",
    "    \n",
    "    # Se nenhum número positivo foi digitado, informa ao usuário.\n",
    "    print(\"Nenhum número positivo foi digitado.\")"
   ]
  },
  {
   "cell_type": "code",
   "execution_count": null,
   "id": "9060025e-94f5-4b5a-baa7-dd21c5d5b085",
   "metadata": {},
   "outputs": [],
   "source": []
  },
  {
   "cell_type": "code",
   "execution_count": 58,
   "id": "259d2222-63cb-42c9-b297-655e126f696a",
   "metadata": {},
   "outputs": [
    {
     "name": "stdin",
     "output_type": "stream",
     "text": [
      "Digite um número:  55\n"
     ]
    },
    {
     "name": "stdout",
     "output_type": "stream",
     "text": [
      "Soma atual: 55.0\n"
     ]
    },
    {
     "name": "stdin",
     "output_type": "stream",
     "text": [
      "Digite um número:  4\n"
     ]
    },
    {
     "name": "stdout",
     "output_type": "stream",
     "text": [
      "Soma atual: 59.0\n"
     ]
    },
    {
     "name": "stdin",
     "output_type": "stream",
     "text": [
      "Digite um número:  9\n"
     ]
    },
    {
     "name": "stdout",
     "output_type": "stream",
     "text": [
      "Soma atual: 68.0\n"
     ]
    },
    {
     "name": "stdin",
     "output_type": "stream",
     "text": [
      "Digite um número:  12\n"
     ]
    },
    {
     "name": "stdout",
     "output_type": "stream",
     "text": [
      "Soma atual: 80.0\n"
     ]
    },
    {
     "name": "stdin",
     "output_type": "stream",
     "text": [
      "Digite um número:  9\n"
     ]
    },
    {
     "name": "stdout",
     "output_type": "stream",
     "text": [
      "Soma atual: 89.0\n"
     ]
    },
    {
     "name": "stdin",
     "output_type": "stream",
     "text": [
      "Digite um número:  34\n"
     ]
    },
    {
     "name": "stdout",
     "output_type": "stream",
     "text": [
      "Soma atual: 123.0\n",
      "Você atingiu o limite!\n"
     ]
    }
   ],
   "source": [
    "\"\"\"\n",
    "Exercício 15: Somar números até atingir um valor limite\n",
    "\n",
    "Peça ao usuário para digitar números até que a soma dos \n",
    "números digitados atinja ou ultrapasse um valor limite (por exemplo, 100).\n",
    "\"\"\"\n",
    "\n",
    "# Define o valor limite para a soma dos números \n",
    "        # digitados, neste exemplo é 100.\n",
    "limite = 100\n",
    "\n",
    "# Inicializa a variável 'soma' em 0. \n",
    "# Esta variável acumulará a soma dos números \n",
    "        # fornecidos pelo usuário.\n",
    "soma = 0\n",
    "\n",
    "# Inicia um laço while que continuará enquanto a soma \n",
    "        # dos números digitados for menor que o limite.\n",
    "# O laço permite a entrada contínua de números até que o \n",
    "        # limite seja atingido ou ultrapassado.\n",
    "while soma < limite:\n",
    "    \n",
    "    # Solicita ao usuário que digite um número. \n",
    "    # A entrada é capturada como string e convertida para \n",
    "            # float para permitir números decimais.\n",
    "    numero = float(input(\"Digite um número: \"))\n",
    "    \n",
    "    # Adiciona o número digitado à variável 'soma'.\n",
    "    soma += numero\n",
    "    \n",
    "    # Após cada adição, imprime a soma atual para informar o \n",
    "            # usuário do progresso em relação ao limite.\n",
    "    print(f\"Soma atual: {soma}\")\n",
    "\n",
    "# Após a condição do while ser falsa (soma >= limite), \n",
    "        # imprime uma mensagem final.\n",
    "# Esta mensagem informa ao usuário que o limite de \n",
    "        # soma foi atingido ou ultrapassado.\n",
    "print(\"Você atingiu o limite!\")"
   ]
  },
  {
   "cell_type": "code",
   "execution_count": null,
   "id": "b4f2091a-7813-410b-9139-c8cca0a75b64",
   "metadata": {},
   "outputs": [],
   "source": []
  }
 ],
 "metadata": {
  "kernelspec": {
   "display_name": "Python 3 (ipykernel)",
   "language": "python",
   "name": "python3"
  },
  "language_info": {
   "codemirror_mode": {
    "name": "ipython",
    "version": 3
   },
   "file_extension": ".py",
   "mimetype": "text/x-python",
   "name": "python",
   "nbconvert_exporter": "python",
   "pygments_lexer": "ipython3",
   "version": "3.11.7"
  }
 },
 "nbformat": 4,
 "nbformat_minor": 5
}
