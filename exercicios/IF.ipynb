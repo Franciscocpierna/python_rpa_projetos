{
 "cells": [
  {
   "cell_type": "code",
   "execution_count": 3,
   "id": "d92dad68-8848-4063-8b18-9691b94605bd",
   "metadata": {},
   "outputs": [
    {
     "name": "stdin",
     "output_type": "stream",
     "text": [
      "Digite o primeiro número:  5\n",
      "Digite o segundo número:  5\n"
     ]
    },
    {
     "name": "stdout",
     "output_type": "stream",
     "text": [
      "Os dois números são iguais.\n"
     ]
    }
   ],
   "source": [
    "\"\"\"\n",
    "Exercício 1: Comparação de Números:\n",
    "\n",
    "Solicite dois números ao usuário. Use if para imprimir qual \n",
    "        dos dois números é maior, ou se eles são iguais.\n",
    "\"\"\"\n",
    "\n",
    "# Solicita ao usuário que insira o primeiro número.\n",
    "# Utiliza a função 'input()' para coletar uma entrada do usuário. Esta função retorna uma string.\n",
    "# A string retornada é convertida para um número de ponto flutuante (float) usando 'float()'.\n",
    "numero1 = float(input(\"Digite o primeiro número: \"))\n",
    "\n",
    "# Solicita ao usuário que insira o segundo número.\n",
    "numero2 = float(input(\"Digite o segundo número: \"))\n",
    "\n",
    "# Usa a estrutura condicional 'if' para comparar os dois números.\n",
    "# Esta linha verifica se 'numero1' é maior que 'numero2'.\n",
    "if numero1 > numero2:\n",
    "    \n",
    "    # Se a condição for verdadeira (ou seja, se 'numero1' \n",
    "            # for maior que 'numero2'),\n",
    "    # a função 'print()' é chamada para exibir uma mensagem \n",
    "            # informando que o primeiro número é maior.\n",
    "    print(f\"O número {numero1} é maior que o número {numero2}.\")\n",
    "    \n",
    "# A palavra-chave 'elif' permite verificar uma segunda condição \n",
    "        # se a primeira condição 'if' não for verdadeira.\n",
    "# Esta linha verifica se 'numero1' é menor que 'numero2'.\n",
    "elif numero1 < numero2:\n",
    "    \n",
    "    # Se 'numero1' for menor que 'numero2', imprime uma mensagem \n",
    "            # indicando que o segundo número é maior.\n",
    "    print(f\"O número {numero2} é maior que o número {numero1}.\")\n",
    "    \n",
    "# A palavra-chave 'else' captura todos os casos que não \n",
    "        # atendem às condições 'if' ou 'elif' anteriores.\n",
    "# Neste caso, ela é usada para tratar a situação em \n",
    "        # que 'numero1' e 'numero2' são iguais.\n",
    "else:\n",
    "    \n",
    "    # Se nenhum dos números for maior ou menor (ou seja, eles são iguais),\n",
    "    # imprime uma mensagem indicando que os números são iguais.\n",
    "    print(\"Os dois números são iguais.\")"
   ]
  },
  {
   "cell_type": "code",
   "execution_count": null,
   "id": "8046a80a-d1c8-4e0b-a0a8-c12c7272255e",
   "metadata": {},
   "outputs": [],
   "source": []
  },
  {
   "cell_type": "code",
   "execution_count": 7,
   "id": "08c08540-7930-4685-ad1e-1276870fd890",
   "metadata": {},
   "outputs": [
    {
     "name": "stdin",
     "output_type": "stream",
     "text": [
      "Digite um número:  59\n"
     ]
    },
    {
     "name": "stdout",
     "output_type": "stream",
     "text": [
      "O número 59 é impar.\n"
     ]
    }
   ],
   "source": [
    "\"\"\"\n",
    "Exercício 2: Verificar se um número é par ou ímpar\n",
    "\n",
    "Escreva um programa que peça um número e informe se ele é par ou ímpar.\n",
    "\"\"\"\n",
    "\n",
    "# A linha abaixo cria uma variável chamada 'numero'.\n",
    "# A função 'input()' é usada para capturar uma entrada do usuário. \n",
    "        # O texto entre aspas fornece uma instrução ao usuário \n",
    "        # sobre o que deve ser digitado.\n",
    "# A função 'int()' é utilizada para converter a entrada, que é \n",
    "        # recebida como uma string (texto), em um inteiro.\n",
    "numero = int(input(\"Digite um número: \"))\n",
    "\n",
    "# A seguir, temos uma estrutura condicional 'if'. Ela é usada \n",
    "        # para verificar uma condição: se o número é par ou ímpar.\n",
    "# 'numero % 2' é uma operação de módulo que retorna o resto \n",
    "        # da divisão de 'numero' por 2.\n",
    "# Se o resultado dessa operação for 0, significa que o número é \n",
    "        # divisível por 2, logo, ele é par.\n",
    "if numero % 2 == 0:\n",
    "    \n",
    "    # Se a condição for verdadeira (o número é par), a função 'print()' é \n",
    "            # chamada para exibir uma mensagem formatada.\n",
    "    # 'f' antes das aspas indica que a string é formatada, permitindo a\n",
    "            # inserção de variáveis diretamente no texto.\n",
    "    # '{numero}' será substituído pelo valor da variável 'numero'.\n",
    "    print(f\"O número {numero} é par.\")\n",
    "    \n",
    "# A palavra-chave 'else' é usada para definir o bloco de código que \n",
    "        # será executado se a condição no 'if' não for verdadeira.\n",
    "else:\n",
    "    \n",
    "    # Se o número não for par (a condição do 'if' falha), ele deve ser ímpar, então esta linha será executada.\n",
    "    # Assim como no 'if', a função 'print()' exibe uma mensagem indicando que o número é ímpar.\n",
    "    print(f\"O número {numero} é ímpar.\")"
   ]
  },
  {
   "cell_type": "code",
   "execution_count": null,
   "id": "662a697f-0219-4536-b8db-3a6f43293daa",
   "metadata": {},
   "outputs": [],
   "source": []
  },
  {
   "cell_type": "code",
   "execution_count": 10,
   "id": "1bffa65d-df57-4702-bb54-db89ffb7a7eb",
   "metadata": {},
   "outputs": [
    {
     "name": "stdin",
     "output_type": "stream",
     "text": [
      "Digite a temperatura atual em °C:  30\n"
     ]
    },
    {
     "name": "stdout",
     "output_type": "stream",
     "text": [
      "Está quente!\n"
     ]
    }
   ],
   "source": [
    "\"\"\"\n",
    "Exercício 3: Verificação de Temperatura:\n",
    "\n",
    "Peça ao usuário para digitar a temperatura atual. \n",
    "\n",
    "- Se a temperatura estiver abaixo de 10°C, imprima \"Muito frio!\". \n",
    "- Se estiver entre 10°C e 25°C, imprima \"Clima agradável!\". \n",
    "- Se estiver acima de 25°C, imprima \"Está quente!\".\n",
    "\"\"\"\n",
    "\n",
    "# Solicita ao usuário que insira a temperatura atual.\n",
    "# Utiliza a função 'input()' para receber a entrada do usuário como uma string.\n",
    "# A entrada é convertida para um número de ponto flutuante usando 'float()',\n",
    "# porque a temperatura é geralmente um valor decimal e precisa \n",
    "        # ser comparada numericamente.\n",
    "temperatura = float(input(\"Digite a temperatura atual em °C: \"))\n",
    "\n",
    "# Usa a estrutura condicional 'if' para verificar se a temperatura \n",
    "        # está abaixo de 10 graus Celsius.\n",
    "if temperatura < 10:\n",
    "    \n",
    "    # Se a temperatura for menor que 10°C, imprime \"Muito frio!\".\n",
    "    print(\"Muito frio!\")\n",
    "\n",
    "# A palavra-chave 'elif' (else if) é usada para verificar \n",
    "        # uma segunda condição:\n",
    "# se a temperatura está entre 10°C e 25°C.\n",
    "elif 10 <= temperatura <= 25:\n",
    "    \n",
    "    # Se a temperatura estiver no intervalo de 10°C a 25°C, \n",
    "            # incluindo ambos os limites,\n",
    "            # imprime \"Clima agradável!\".\n",
    "    print(\"Clima agradável!\")\n",
    "\n",
    "# Se a temperatura não é menor que 10°C nem entre 10°C e 25°C,\n",
    "        # o último 'else' captura todas as temperaturas acima de 25°C.\n",
    "else:\n",
    "    \n",
    "    # Imprime \"Está quente!\" para temperaturas acima de 25°C.\n",
    "    print(\"Está quente!\")"
   ]
  },
  {
   "cell_type": "code",
   "execution_count": null,
   "id": "7ec2896b-73be-4d1b-8675-d76cb5c9b4c6",
   "metadata": {},
   "outputs": [],
   "source": []
  },
  {
   "cell_type": "code",
   "execution_count": 17,
   "id": "35dfa717-5b69-484e-9fcb-46afce923b57",
   "metadata": {},
   "outputs": [
    {
     "name": "stdin",
     "output_type": "stream",
     "text": [
      "Digite seu salário mensal em R$:  100000\n"
     ]
    },
    {
     "name": "stdout",
     "output_type": "stream",
     "text": [
      "O imposto devido é de R$ 20000.00\n"
     ]
    }
   ],
   "source": [
    "\"\"\"\n",
    "Exercício 4: Cálculo de Imposto de Renda:\n",
    "\n",
    "Solicite ao usuário seu salário mensal. Se o salário for \n",
    "        superior a R$ 5000,00, calcule e imprima o imposto \n",
    "        devido de 20% sobre o salário. \n",
    "        \n",
    "Caso contrário, imprima que o usuário está isento de impostos.\n",
    "\"\"\"\n",
    "\n",
    "# Solicita ao usuário que insira seu salário mensal.\n",
    "# Utiliza a função 'input()' para receber a entrada do usuário como uma string.\n",
    "# A entrada é convertida para um número de ponto flutuante usando 'float()',\n",
    "# permitindo cálculos numéricos com o valor do salário.\n",
    "salario = float(input(\"Digite seu salário mensal em R$: \"))\n",
    "\n",
    "# Usa a estrutura condicional 'if' para verificar se o \n",
    "        # salário é superior a R$ 5000,00.\n",
    "if salario > 5000:\n",
    "    \n",
    "    # Se o salário for maior que R$ 5000,00, calcula o imposto devido.\n",
    "    # O imposto é calculado como 20% do salário. A expressão 'salario * 0.20' \n",
    "            # realiza essa operação.\n",
    "    imposto = salario * 0.20\n",
    "    \n",
    "    # Imprime o valor do imposto devido, formatando a saída \n",
    "            # para duas casas decimais.\n",
    "    print(f\"O imposto devido é de R$ {imposto:.2f}\")\n",
    "\n",
    "# Se o salário não é superior a R$ 5000,00, o usuário \n",
    "        # está isento de pagar impostos.\n",
    "else:\n",
    "    \n",
    "    # Imprime uma mensagem informando que o usuário \n",
    "            # está isento de impostos.\n",
    "    print(\"Você está isento de impostos.\")"
   ]
  },
  {
   "cell_type": "code",
   "execution_count": null,
   "id": "eed0a7d5-14fa-461e-8020-5265c3fb08ae",
   "metadata": {},
   "outputs": [],
   "source": []
  },
  {
   "cell_type": "code",
   "execution_count": 26,
   "id": "e30acc83-66ae-4764-82b7-82e990a7d4d9",
   "metadata": {},
   "outputs": [
    {
     "name": "stdin",
     "output_type": "stream",
     "text": [
      "Digite uma palavra:  ovo\n"
     ]
    },
    {
     "name": "stdout",
     "output_type": "stream",
     "text": [
      "A palavra 'ovo' é um palíndromo.\n"
     ]
    }
   ],
   "source": [
    "\"\"\"\n",
    "Exercício 5: Verificar se uma palavra é um palíndromo\n",
    "\n",
    "Escreva um programa que verifique se uma palavra é um \n",
    "        palíndromo (a palavra é igual de trás para frente).\n",
    "\"\"\"\n",
    "\n",
    "# OVO - ASA\n",
    "\n",
    "# Esta linha inicializa a variável 'palavra'.\n",
    "# 'input()' é utilizado para solicitar ao usuário que insira \n",
    "        # uma palavra. O texto entre aspas informa o usuário \n",
    "        # sobre o que ele deve fornecer.\n",
    "# 'replace(\" \", \"\")' remove todos os espaços em branco da string inserida. \n",
    "        # Isso é útil para verificar palíndromos de frases onde \n",
    "        # os espaços são irrelevantes.\n",
    "# 'lower()' converte toda a string para letras minúsculas. \n",
    "        # Isso garante que a verificação do palíndromo não seja \n",
    "        # afetada por diferenças de maiúsculas e minúsculas.\n",
    "palavra = input(\"Digite uma palavra: \").replace(\" \", \"\").lower()\n",
    "\n",
    "# A estrutura condicional 'if' é usada para verificar se a \n",
    "        # palavra é um palíndromo.\n",
    "# 'palavra[::-1]' cria uma cópia invertida da string 'palavra'. \n",
    "        # Este é um exemplo de fatiamento de string onde:\n",
    "# - O primeiro índice antes dos dois pontos é omitido, \n",
    "        # indicando o início da string.\n",
    "# - O segundo índice também é omitido, indicando o final da string.\n",
    "# - O terceiro índice (após o segundo dois pontos) é -1, o \n",
    "        # que significa que a string deve ser lida de trás para frente.\n",
    "# A condição 'palavra == palavra[::-1]' verifica se a \n",
    "        # string original é igual à sua versão invertida.\n",
    "if palavra == palavra[::-1]:\n",
    "    \n",
    "    # Se a condição for verdadeira (a palavra é um palíndromo), \n",
    "            # esta mensagem é impressa.\n",
    "    # A mensagem usa uma f-string para inserir a variável 'palavra' \n",
    "            # diretamente no texto, mostrando ao usuário qual palavra foi verificada.\n",
    "    print(f\"A palavra '{palavra}' é um palíndromo.\")\n",
    "    \n",
    "# 'else' captura todos os casos onde a condição 'if' \n",
    "        # não é verdadeira.\n",
    "else:\n",
    "    \n",
    "    # Esta mensagem é impressa se a palavra não for um palíndromo.\n",
    "    print(f\"A palavra '{palavra}' não é um palíndromo.\")"
   ]
  },
  {
   "cell_type": "code",
   "execution_count": null,
   "id": "6d5f5461-7eb0-4042-bf2e-86eef9efcefa",
   "metadata": {},
   "outputs": [],
   "source": []
  },
  {
   "cell_type": "code",
   "execution_count": 29,
   "id": "8440ba91-0dce-48e6-88ad-5806d1f55563",
   "metadata": {},
   "outputs": [
    {
     "name": "stdin",
     "output_type": "stream",
     "text": [
      "Digite o primeiro número:  5\n",
      "Digite o segundo número:  6\n",
      "Digite o terceito número:  30\n"
     ]
    },
    {
     "name": "stdout",
     "output_type": "stream",
     "text": [
      "O maior número é: 30.0\n"
     ]
    }
   ],
   "source": [
    "\"\"\"\n",
    "Exercício 6: Verificar maior de três números\n",
    "\n",
    "Peça ao usuário três números e exiba qual é o maior.\n",
    "\"\"\"\n",
    "\n",
    "# A primeira linha define uma variável chamada 'numero1'.\n",
    "# 'input()' é usada para solicitar ao usuário que insira um número. \n",
    "        # A mensagem dentro das aspas serve como instrução.\n",
    "# A função 'float()' é utilizada para converter a entrada do \n",
    "        # usuário de uma string para um número de ponto flutuante.\n",
    "# Isso permite que operações de comparação sejam realizadas entre números.\n",
    "numero1 = float(input(\"Digite o primeiro número: \"))\n",
    "\n",
    "# A segunda linha segue o mesmo padrão da primeira. Ela define 'numero2', \n",
    "        # capturando e convertendo outra entrada de usuário.\n",
    "numero2 = float(input(\"Digite o segundo número: \"))\n",
    "\n",
    "# A terceira linha também segue o padrão das anteriores. Define 'numero3', \n",
    "        # solicitando e convertendo a terceira entrada do usuário.\n",
    "numero3 = float(input(\"Digite o terceiro número: \"))\n",
    "\n",
    "# O primeiro 'if' verifica se 'numero1' é maior ou igual a 'numero2' e 'numero3'.\n",
    "# A utilização do operador 'and' garante que ambas as condições devem ser \n",
    "        # verdadeiras para o bloco de código ser executado.\n",
    "# Isso é necessário porque queremos confirmar que 'numero1' não é \n",
    "        # apenas maior que 'numero2', mas também que é maior ou igual a 'numero3'.\n",
    "if numero1 >= numero2 and numero1 >= numero3:\n",
    "    \n",
    "    # Se a condição for verdadeira, isso significa que 'numero1' é o \n",
    "            # maior número (ou está empatado com outro número como o maior).\n",
    "    # A mensagem é exibida com o valor de 'numero1' incluído, usando \n",
    "            # formatação de string para inserir o número diretamente no texto.\n",
    "    print(f\"O maior número é: {numero1}\")\n",
    "\n",
    "# O 'elif' (abreviação de 'else if') permite verificar outra \n",
    "        # condição se a primeira condição 'if' falhar.\n",
    "# Aqui, verifica se 'numero2' é maior ou igual a ambos 'numero1' e 'numero3'.\n",
    "elif numero2 >= numero1 and numero2 >= numero3:\n",
    "    \n",
    "    # Se 'numero2' for o maior ou estiver empatado como o \n",
    "            # maior, esta linha será executada.\n",
    "    print(f\"O maior número é: {numero2}\")\n",
    "\n",
    "# O 'else' captura todos os casos não cobertos pelos 'if' e 'elif' anteriores.\n",
    "# Neste caso, se as condições anteriores não forem verdadeiras, \n",
    "        # significa que 'numero3' deve ser o maior.\n",
    "else:\n",
    "    \n",
    "    # Esta linha será executada se 'numero3' for o maior.\n",
    "    print(f\"O maior número é: {numero3}\")"
   ]
  },
  {
   "cell_type": "code",
   "execution_count": null,
   "id": "fabc0c5c-5296-4831-ac60-0c27632f776e",
   "metadata": {},
   "outputs": [],
   "source": []
  },
  {
   "cell_type": "code",
   "execution_count": 42,
   "id": "1e527773-3f38-4723-bcb2-f45979891cc6",
   "metadata": {},
   "outputs": [
    {
     "name": "stdin",
     "output_type": "stream",
     "text": [
      "Digite sua idade:  35\n"
     ]
    },
    {
     "name": "stdout",
     "output_type": "stream",
     "text": [
      "Você é um adulto.\n"
     ]
    }
   ],
   "source": [
    "\"\"\"\n",
    "Exercício 7: Categorizar idade\n",
    "\n",
    "Peça a idade de uma pessoa e classifique-a em uma das seguintes categorias:\n",
    "\n",
    "Criança (0 a 12 anos)\n",
    "Adolescente (13 a 17 anos)\n",
    "Adulto (18 a 64 anos)\n",
    "Idoso (65 anos ou mais)\n",
    "\"\"\"\n",
    "\n",
    "# Esta linha inicializa a variável 'idade'.\n",
    "# 'input()' é usada para solicitar ao usuário que digite sua idade. \n",
    "        # A mensagem \"Digite sua idade: \" serve como prompt.\n",
    "# 'int()' converte a entrada do usuário de string para um número inteiro. \n",
    "# Isso é necessário para que possamos fazer comparações numéricas.\n",
    "idade = int(input(\"Digite sua idade: \"))\n",
    "\n",
    "# Este bloco 'if' verifica se a idade está entre 0 e 12 anos, inclusive.\n",
    "# Se verdadeiro, o código dentro deste bloco será executado.\n",
    "if idade >= 0 and idade <= 12:\n",
    "    \n",
    "    # Esta linha será executada se a condição do 'if' for verdadeira, \n",
    "            # indicando que o usuário é uma criança.\n",
    "    print(\"Você é uma criança.\")\n",
    "\n",
    "# O 'elif', que significa 'else if', é usado para verificar outra \n",
    "        # condição se a condição anterior for falsa.\n",
    "# Este bloco verifica se a idade está entre 13 e 17 anos, inclusive.\n",
    "elif idade >= 13 and idade <= 17:\n",
    "    \n",
    "    # Se a condição do 'elif' for verdadeira, significa que o \n",
    "            # usuário é um adolescente.\n",
    "    print(\"Você é um adolescente.\")\n",
    "\n",
    "# Outro 'elif' é usado aqui para verificar se a idade está \n",
    "        # entre 18 e 64 anos, inclusive.\n",
    "elif idade >= 18 and idade <= 64:\n",
    "    \n",
    "    # Se esta condição for verdadeira, o usuário é classificado como adulto.\n",
    "    print(\"Você é um adulto.\")\n",
    "\n",
    "# Este 'elif' verifica se a idade é 65 anos ou mais.\n",
    "elif idade >= 65:\n",
    "    \n",
    "    # Executa esta linha se o usuário tiver 65 anos ou mais, \n",
    "            # classificando-o como idoso.\n",
    "    print(\"Você é um idoso.\")\n",
    "\n",
    "# O 'else' final captura qualquer entrada que não caia \n",
    "        # nas categorias anteriores.\n",
    "# Isso incluiria números negativos, por exemplo, que \n",
    "        # não são idades válidas.\n",
    "else:\n",
    "    \n",
    "    # Informa ao usuário que a idade inserida é inválida.\n",
    "    print(\"Idade inválida.\")"
   ]
  },
  {
   "cell_type": "code",
   "execution_count": null,
   "id": "893c5d45-1403-4278-a7ee-dd4f9b8a39e4",
   "metadata": {},
   "outputs": [],
   "source": []
  },
  {
   "cell_type": "code",
   "execution_count": 13,
   "id": "33049bb1-9d2a-4353-b3b1-145f81d8a66a",
   "metadata": {},
   "outputs": [
    {
     "name": "stdin",
     "output_type": "stream",
     "text": [
      "Digite a nota do aluno:  10\n"
     ]
    },
    {
     "name": "stdout",
     "output_type": "stream",
     "text": [
      "Classificação A\n"
     ]
    }
   ],
   "source": [
    "\"\"\"\n",
    "Exercício 8: Classificar nota\n",
    "\n",
    "Peça a nota de um aluno e exiba sua classificação:\n",
    "\n",
    "A (de 9 a 10)\n",
    "B (de 7 a 8.9)\n",
    "C (de 5 a 6.9)\n",
    "D (abaixo de 5)\n",
    "\"\"\"\n",
    "\n",
    "# Esta linha inicializa a variável 'nota'.\n",
    "# 'input()' é usada para solicitar ao usuário que digite a nota \n",
    "        # do aluno. A mensagem \"Digite a nota do aluno: \" serve como prompt.\n",
    "# 'float()' converte a entrada do usuário de string para um número de ponto flutuante.\n",
    "# Isso é necessário para que possamos fazer comparações numéricas precisas.\n",
    "nota = float(input(\"Digite a nota do aluno: \"))\n",
    "\n",
    "# Este bloco 'if' verifica se a nota está entre 9 e 10, inclusive.\n",
    "# Se verdadeiro, o código dentro deste bloco será executado.\n",
    "if nota >= 9 and nota <= 10:\n",
    "    \n",
    "    # Esta linha será executada se a condição do 'if' for \n",
    "            # verdadeira, indicando que a classificação do aluno é A.\n",
    "    print(\"Classificação: A\")\n",
    "\n",
    "# O 'elif', que significa 'else if', é usado para verificar \n",
    "        # outra condição se a condição anterior for falsa.\n",
    "# Este bloco verifica se a nota está entre 7 e 8.9, inclusive.\n",
    "elif nota >= 7 and nota < 9:\n",
    "    \n",
    "    # Se a condição do 'elif' for verdadeira, significa \n",
    "            # que a classificação do aluno é B.\n",
    "    print(\"Classificação: B\")\n",
    "\n",
    "# Outro 'elif' é usado aqui para verificar se a nota \n",
    "        # está entre 5 e 6.9, inclusive.\n",
    "elif nota >= 5 and nota < 7:\n",
    "    \n",
    "    # Se esta condição for verdadeira, o aluno é classificado como C.\n",
    "    print(\"Classificação: C\")\n",
    "\n",
    "# Este 'elif' verifica se a nota é menor que 5 e maior ou igual a 0.\n",
    "elif nota >= 0 and nota < 5:\n",
    "    \n",
    "    # Executa esta linha se a nota estiver abaixo de 5, \n",
    "            # classificando o aluno como D.\n",
    "    print(\"Classificação: D\")\n",
    "\n",
    "# O 'else' final captura qualquer entrada que não caia nas \n",
    "        # categorias anteriores.\n",
    "# Isso incluiria números negativos ou qualquer valor acima \n",
    "        # de 10, por exemplo, que não são notas válidas.\n",
    "else:\n",
    "    \n",
    "    # Informa ao usuário que a nota inserida é inválida.\n",
    "    print(\"Nota inválida.\")"
   ]
  },
  {
   "cell_type": "code",
   "execution_count": null,
   "id": "9e180940-16f5-4e5b-8ddc-e1761f9cf944",
   "metadata": {},
   "outputs": [],
   "source": []
  },
  {
   "cell_type": "code",
   "execution_count": 20,
   "id": "ca2aa11d-6224-429c-beac-0755ac65fb5d",
   "metadata": {},
   "outputs": [
    {
     "name": "stdin",
     "output_type": "stream",
     "text": [
      "Digite um número:  30\n"
     ]
    },
    {
     "name": "stdout",
     "output_type": "stream",
     "text": [
      "O número 30 é divisivel por 3 e por 5.\n"
     ]
    }
   ],
   "source": [
    "\"\"\"\n",
    "Exercício 9: Verificar divisibilidade por 3 e 5\n",
    "\n",
    "Peça um número e verifique se ele é divisível por 3, por 5, ou por ambos.\n",
    "\"\"\"\n",
    "\n",
    "# Inicia pedindo ao usuário para inserir um número e armazena \n",
    "        # esse número na variável 'numero'.\n",
    "# A função 'int()' converte a entrada, que é recebida \n",
    "        # como string, para um inteiro.\n",
    "numero = int(input(\"Digite um número: \"))\n",
    "\n",
    "# Verifica se o número é simultaneamente divisível por 3 e por 5.\n",
    "# Isso é feito usando o operador módulo '%', que retorna o \n",
    "        # resto da divisão do número por 3 e por 5.\n",
    "# Se ambos os restos forem 0, então o número é \n",
    "        # divisível por ambos 3 e 5.\n",
    "if numero % 3 == 0 and numero % 5 == 0:\n",
    "    \n",
    "    # Imprime uma mensagem indicando que o número é divisível por ambos 3 e 5.\n",
    "    print(f\"O número {numero} é divisível por 3 e por 5.\")\n",
    "\n",
    "# Caso o número não seja divisível por ambos, verifica \n",
    "        # se é divisível apenas por 3.\n",
    "elif numero % 3 == 0:\n",
    "    \n",
    "    # Imprime uma mensagem indicando que o número é divisível por 3.\n",
    "    print(f\"O número {numero} é divisível por 3.\")\n",
    "\n",
    "# Caso o número não seja divisível por ambos ou apenas por 3, \n",
    "        # verifica se é divisível apenas por 5.\n",
    "elif numero % 5 == 0:\n",
    "    \n",
    "    # Imprime uma mensagem indicando que o número é divisível por 5.\n",
    "    print(f\"O número {numero} é divisível por 5.\")\n",
    "\n",
    "# Se nenhuma das condições anteriores for verdadeira, indica que o \n",
    "        # número não é divisível nem por 3, nem por 5.\n",
    "else:\n",
    "    \n",
    "    # Imprime uma mensagem indicando que o número não é divisível por 3 nem por 5.\n",
    "    print(f\"O número {numero} não é divisível por 3 nem por 5.\")"
   ]
  },
  {
   "cell_type": "code",
   "execution_count": null,
   "id": "70590466-83d3-41f9-8f4a-0671f55d5110",
   "metadata": {},
   "outputs": [],
   "source": []
  },
  {
   "cell_type": "code",
   "execution_count": 26,
   "id": "273eb906-ab12-4d65-a8c0-a644298ba1df",
   "metadata": {},
   "outputs": [
    {
     "name": "stdin",
     "output_type": "stream",
     "text": [
      "Digite o salário:  5000\n",
      "Digite o número de anos trabalhados:  6\n"
     ]
    },
    {
     "name": "stdout",
     "output_type": "stream",
     "text": [
      "Salário com bônus: R$5500.00\n"
     ]
    }
   ],
   "source": [
    "\"\"\"\n",
    "Exercício 10: Cálculo de salário com bônus\n",
    "\n",
    "Peça o salário de um funcionário e o número de anos de trabalho. \n",
    "Se ele trabalhou mais de 5 anos, adicione um bônus de 10% ao salário.\n",
    "\"\"\"\n",
    "\n",
    "# Solicita ao usuário que insira o valor do salário e armazena \n",
    "        # esse valor na variável 'salario'.\n",
    "# A função 'float()' converte a entrada, que é recebida como \n",
    "        # uma string, para um número de ponto flutuante,\n",
    "        # permitindo realizar cálculos matemáticos com esse valor.\n",
    "salario = float(input(\"Digite o salário: \"))\n",
    "\n",
    "# Solicita ao usuário que informe o número de anos trabalhados e \n",
    "        # armazena esse valor na variável 'anos_trabalhados'.\n",
    "# A função 'int()' é usada para converter a entrada de string \n",
    "        # para um número inteiro,\n",
    "        # o que é apropriado para contar anos.\n",
    "anos_trabalhados = int(input(\"Digite o número de anos trabalhados: \"))\n",
    "\n",
    "# Verifica se o número de anos trabalhados é maior que 5.\n",
    "if anos_trabalhados > 5:\n",
    "    \n",
    "    # Calcula o bônus como 10% do salário atual.\n",
    "    bonus = salario * 0.10\n",
    "    \n",
    "    # Calcula o salário total adicionando o bônus ao salário original.\n",
    "    salario_total = salario + bonus\n",
    "    \n",
    "    # Imprime o salário total com bônus, formatado para duas casas \n",
    "            # decimais para representar valores monetários.\n",
    "    print(f\"Salário com bônus: R${salario_total:.2f}\")\n",
    "    \n",
    "else:\n",
    "    \n",
    "    # Se o funcionário não trabalhou mais de 5 anos, o \n",
    "            # salário é exibido sem bônus.\n",
    "    print(f\"Salário sem bônus: R${salario:.2f}\")"
   ]
  },
  {
   "cell_type": "code",
   "execution_count": null,
   "id": "d5e1c19a-ce29-4da2-9a17-33e552077bd6",
   "metadata": {},
   "outputs": [],
   "source": []
  },
  {
   "cell_type": "code",
   "execution_count": 29,
   "id": "a3e1244e-a7eb-482d-91d1-27c98e327974",
   "metadata": {},
   "outputs": [
    {
     "name": "stdin",
     "output_type": "stream",
     "text": [
      "Digite o salário:  5000\n"
     ]
    },
    {
     "name": "stdout",
     "output_type": "stream",
     "text": [
      "O novo salário é: R$5250.00\n"
     ]
    }
   ],
   "source": [
    "\"\"\"\n",
    "Exercício 11: Calcular aumento salarial\n",
    "\n",
    "Peça o salário de um funcionário e aplique um aumento baseado nas seguintes regras:\n",
    "\n",
    "Aumento de 20% se o salário for menor que R$1000.\n",
    "Aumento de 10% se o salário for entre R$1000 e R$2000.\n",
    "Aumento de 5% se o salário for maior que R$2000.\n",
    "\"\"\"\n",
    "\n",
    "# Solicita ao usuário que digite o valor do salário atual e \n",
    "        # armazena esse valor na variável 'salario'.\n",
    "# A função 'float()' é usada para converter a entrada de \n",
    "        # texto para um número de ponto flutuante,\n",
    "        # possibilitando a realização de cálculos matemáticos \n",
    "        # com esse valor.\n",
    "salario = float(input(\"Digite o salário: \"))\n",
    "\n",
    "# Verifica se o salário é menor que R$1000.\n",
    "if salario < 1000:\n",
    "    \n",
    "    # Calcula o novo salário com um aumento de 20%.\n",
    "    # Multiplica o salário atual por 1.20 para aplicar o aumento.\n",
    "    salario_novo = salario * 1.20\n",
    "    \n",
    "# Verifica se o salário está entre R$1000 e R$2000 (inclusive R$1000, \n",
    "        # mas exclusivo de R$2000).\n",
    "elif salario <= 2000:\n",
    "    \n",
    "    # Calcula o novo salário com um aumento de 10%.\n",
    "    # Multiplica o salário atual por 1.10 para aplicar o aumento.\n",
    "    salario_novo = salario * 1.10\n",
    "    \n",
    "# Caso o salário seja maior que R$2000, aplica-se a \n",
    "        # última faixa de aumento.\n",
    "else:\n",
    "    \n",
    "    # Calcula o novo salário com um aumento de 5%.\n",
    "    # Multiplica o salário atual por 1.05 para aplicar o aumento.\n",
    "    salario_novo = salario * 1.05\n",
    "\n",
    "# Imprime o novo salário após o aumento, formatado para \n",
    "        # duas casas decimais.\n",
    "# Isso assegura que o valor exibido é compatível com a \n",
    "        # formatação padrão de valores monetários.\n",
    "print(f\"O novo salário é: R${salario_novo:.2f}\")"
   ]
  },
  {
   "cell_type": "code",
   "execution_count": null,
   "id": "e940ec3b-3cdb-44c0-85cb-40b3d19d5f21",
   "metadata": {},
   "outputs": [],
   "source": []
  },
  {
   "cell_type": "code",
   "execution_count": 39,
   "id": "0170ac99-4d84-4c4d-9be5-32703f43da72",
   "metadata": {},
   "outputs": [
    {
     "name": "stdin",
     "output_type": "stream",
     "text": [
      "Digite um ano:  2024\n"
     ]
    },
    {
     "name": "stdout",
     "output_type": "stream",
     "text": [
      "O ano 2024 é bissexto.\n"
     ]
    }
   ],
   "source": [
    "\"\"\"\n",
    "Exercício 12: Verificar ano bissexto\n",
    "\n",
    "Peça um ano e verifique se ele é bissexto. \n",
    "    Um ano é bissexto se for divisível por 4, exceto se for \n",
    "    divisível por 100, a menos que também seja divisível por 400.\n",
    "\"\"\"\n",
    "\n",
    "# Solicita ao usuário que digite um ano e armazena esse \n",
    "        # valor na variável 'ano'.\n",
    "# A função 'int()' é usada para converter a entrada de \n",
    "        # texto para um número inteiro,\n",
    "        # pois estamos trabalhando com anos que são valores numéricos inteiros.\n",
    "ano = int(input(\"Digite um ano: \"))\n",
    "\n",
    "# Verifica se o ano é bissexto com base nas regras definidas:\n",
    "# 1. O ano deve ser divisível por 4 (ano % 4 == 0) E\n",
    "# 2. Não deve ser divisível por 100 (ano % 100 != 0) OU\n",
    "# 3. Deve ser divisível por 400 (ano % 400 == 0).\n",
    "# O operador lógico 'and' é usado para garantir que ambas as \n",
    "        # condições sejam verdadeiras simultaneamente,\n",
    "        # e o operador 'or' é usado para incluir a exceção \n",
    "        # dos anos divisíveis por 400.\n",
    "if (ano % 4 == 0 and ano % 100 != 0) or (ano % 400 == 0):\n",
    "    \n",
    "    # Se o ano atende a essas condições, ele é bissexto e esta \n",
    "            # mensagem é impressa, informando o usuário.\n",
    "    print(f\"O ano {ano} é bissexto.\")\n",
    "    \n",
    "else:\n",
    "    \n",
    "    # Se o ano não atende a essas condições, ele não é \n",
    "            # bissexto, e esta mensagem é impressa.\n",
    "    print(f\"O ano {ano} não é bissexto.\")"
   ]
  },
  {
   "cell_type": "code",
   "execution_count": null,
   "id": "2a591b55-0a12-4c6f-9364-b53e7e6d89b2",
   "metadata": {},
   "outputs": [],
   "source": []
  },
  {
   "cell_type": "code",
   "execution_count": 42,
   "id": "7318e85d-1330-4c75-a5c3-c88b201655af",
   "metadata": {},
   "outputs": [
    {
     "name": "stdin",
     "output_type": "stream",
     "text": [
      "Digite o valor da compra:  5000\n"
     ]
    },
    {
     "name": "stdout",
     "output_type": "stream",
     "text": [
      "O valor final da compra é: R$4250.00\n"
     ]
    }
   ],
   "source": [
    "\"\"\"\n",
    "Exercício 13: Calcular valor com desconto\n",
    "\n",
    "Peça o valor de uma compra e calcule o valor com desconto \n",
    "        conforme as seguintes regras:\n",
    "\n",
    "Desconto de 5% se o valor for entre R$100 e R$500.\n",
    "Desconto de 10% se o valor for entre R$500 e R$1000.\n",
    "Desconto de 15% se o valor for acima de R$1000.\n",
    "\"\"\"\n",
    "\n",
    "# Solicita ao usuário que digite o valor da compra e armazena \n",
    "        # esse valor na variável 'valor_compra'.\n",
    "# A função 'float()' é usada para converter a entrada de \n",
    "        # texto para um número de ponto flutuante,\n",
    "        # possibilitando a realização de cálculos matemáticos com esse valor.\n",
    "valor_compra = float(input(\"Digite o valor da compra: \"))\n",
    "\n",
    "# Verifica se o valor da compra está entre R$100 e R$500, \n",
    "        # incluindo ambos os limites.\n",
    "# Se verdadeiro, aplica um desconto de 5%.\n",
    "if valor_compra >= 100 and valor_compra <= 500:\n",
    "\n",
    "    # Multiplica o valor da compra por 0.95 para aplicar o desconto de 5%.\n",
    "    valor_final = valor_compra * 0.95  \n",
    "\n",
    "# Verifica se o valor da compra está entre mais de R$500 e até R$1000.\n",
    "        # Se verdadeiro, aplica um desconto de 10%.\n",
    "elif valor_compra > 500 and valor_compra <= 1000:\n",
    "\n",
    "    # Multiplica o valor da compra por 0.90 para aplicar o desconto de 10%.\n",
    "    valor_final = valor_compra * 0.90  \n",
    "\n",
    "# Verifica se o valor da compra é maior que R$1000.\n",
    "# Se verdadeiro, aplica um desconto de 15%.\n",
    "elif valor_compra > 1000:\n",
    "\n",
    "    # Multiplica o valor da compra por 0.85 para aplicar o desconto de 15%.\n",
    "    valor_final = valor_compra * 0.85  \n",
    "\n",
    "# Se o valor da compra não atender a nenhum dos critérios \n",
    "# anteriores, isto é, for menor que R$100,\n",
    "# não aplica nenhum desconto.\n",
    "else:\n",
    "\n",
    "    # Mantém o valor original da compra sem desconto.\n",
    "    valor_final = valor_compra  \n",
    "\n",
    "# Imprime o valor final da compra após a aplicação de qualquer \n",
    "        # desconto possível, formatado para duas casas decimais.\n",
    "# Isso assegura que o valor exibido é compatível com a formatação \n",
    "        # padrão de valores monetários.\n",
    "print(f\"O valor final da compra é: R${valor_final:.2f}\")"
   ]
  },
  {
   "cell_type": "code",
   "execution_count": null,
   "id": "c174c1f6-0914-4a04-a154-a9605f348b16",
   "metadata": {},
   "outputs": [],
   "source": []
  },
  {
   "cell_type": "code",
   "execution_count": 47,
   "id": "b5b6bc4a-779e-46bd-ab38-e54ecf7bf50b",
   "metadata": {},
   "outputs": [
    {
     "name": "stdin",
     "output_type": "stream",
     "text": [
      "Digite uma senha:  Bj34jjjhjhhjhjhjhjhhj%\n"
     ]
    },
    {
     "name": "stdout",
     "output_type": "stream",
     "text": [
      "A senha é válida.\n"
     ]
    }
   ],
   "source": [
    "\"\"\"\n",
    "Exercício 14: Verificar a validade de uma senha\n",
    "\n",
    "Peça ao usuário uma senha e verifique se ela atende aos seguintes critérios:\n",
    "\n",
    "Pelo menos 8 caracteres\n",
    "Pelo menos uma letra maiúscula\n",
    "Pelo menos um número\n",
    "Pelo menos um caractere especial (!, @, #, etc.)\n",
    "\"\"\"\n",
    "\n",
    "# Solicita ao usuário que digite uma senha e armazena essa \n",
    "        # entrada na variável 'senha'.\n",
    "senha = input(\"Digite uma senha: \")\n",
    "\n",
    "# Inicializa três variáveis booleanas para rastrear se a senha \n",
    "        # contém pelo menos uma letra maiúscula,\n",
    "# um número e um caractere especial. Inicialmente, \n",
    "        # todas são definidas como False.\n",
    "tem_maiuscula = False\n",
    "tem_numero = False\n",
    "tem_caractere_especial = False\n",
    "\n",
    "# Itera sobre cada caractere 'c' na string 'senha'.\n",
    "for c in senha:\n",
    "    \n",
    "    # Verifica se o caractere atual 'c' é uma letra maiúscula \n",
    "            # usando o método 'isupper()'.\n",
    "    # Se 'isupper()' retornar True, significa que encontrou \n",
    "            # uma letra maiúscula.\n",
    "    if c.isupper():\n",
    "\n",
    "        # Define 'tem_maiuscula' como True indicando que a senha \n",
    "                # contém uma letra maiúscula.\n",
    "        tem_maiuscula = True  \n",
    "\n",
    "        # Interrompe o laço para economizar processamento, pois não é \n",
    "                # necessário verificar os outros caracteres.\n",
    "        break  \n",
    "\n",
    "# Itera novamente sobre cada caractere 'c' na string 'senha'.\n",
    "for c in senha:\n",
    "    \n",
    "    # Verifica se o caractere atual 'c' é um dígito usando o \n",
    "            # método 'isdigit()'.\n",
    "    # Se 'isdigit()' retornar True, significa que \n",
    "            # encontrou um número.\n",
    "    if c.isdigit():\n",
    "\n",
    "        # Define 'tem_numero' como True indicando que a senha contém um número.\n",
    "        tem_numero = True  \n",
    "\n",
    "        # Interrompe o laço, pois já confirmou a presença de um número.\n",
    "        break  \n",
    "\n",
    "# Itera mais uma vez sobre cada caractere 'c' na string 'senha'.\n",
    "for c in senha:\n",
    "    \n",
    "    # Verifica se o caractere atual 'c' está dentro da lista de \n",
    "            # caracteres especiais '!@#$%^&*()'.\n",
    "    if c in '!@#$%^&*()':\n",
    "\n",
    "        # Define 'tem_caractere_especial' como True, indicando que a \n",
    "                # senha contém um caractere especial.\n",
    "        tem_caractere_especial = True  \n",
    "\n",
    "        # Interrompe o laço, pois já confirmou a presença de \n",
    "                # um caractere especial.\n",
    "        break  \n",
    "\n",
    "# Verifica se todos os critérios de validade da senha foram atendidos.\n",
    "# A senha deve ter pelo menos 8 caracteres, conter pelo menos \n",
    "        # uma letra maiúscula, um número e um caractere especial.\n",
    "if (len(senha) >= 8 and tem_maiuscula and tem_numero and tem_caractere_especial):\n",
    "\n",
    "    # Imprime que a senha é válida se todos os critérios forem cumpridos.\n",
    "    print(\"A senha é válida.\")  \n",
    "    \n",
    "else:\n",
    "\n",
    "    # Imprime que a senha não é válida se algum critério não for cumprido.\n",
    "    print(\"A senha não é válida.\")"
   ]
  }
 ],
 "metadata": {
  "kernelspec": {
   "display_name": "Python 3 (ipykernel)",
   "language": "python",
   "name": "python3"
  },
  "language_info": {
   "codemirror_mode": {
    "name": "ipython",
    "version": 3
   },
   "file_extension": ".py",
   "mimetype": "text/x-python",
   "name": "python",
   "nbconvert_exporter": "python",
   "pygments_lexer": "ipython3",
   "version": "3.11.7"
  }
 },
 "nbformat": 4,
 "nbformat_minor": 5
}
