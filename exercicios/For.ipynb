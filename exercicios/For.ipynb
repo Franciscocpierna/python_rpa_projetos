{
 "cells": [
  {
   "cell_type": "code",
   "execution_count": 2,
   "id": "f81abfd9-abda-4fb0-bc61-cebb99ff67ef",
   "metadata": {},
   "outputs": [
    {
     "name": "stdout",
     "output_type": "stream",
     "text": [
      "1\n",
      "2\n",
      "3\n",
      "4\n",
      "5\n",
      "6\n",
      "7\n",
      "8\n",
      "9\n",
      "10\n"
     ]
    }
   ],
   "source": [
    "\"\"\"\n",
    "1. Imprimir números de 1 a 10\n",
    "\n",
    "Use um laço for para imprimir todos os números de 1 a 10.\n",
    "\"\"\"\n",
    "\n",
    "# O laço 'for' é iniciado com a função 'range()', que é \n",
    "        # usada para gerar uma sequência de números.\n",
    "# 'range(1, 11)' cria uma sequência de números começando em 1 e \n",
    "        # indo até, mas não incluindo, 11.\n",
    "# Isso significa que o 'range' gerará os números 1, 2, 3, 4, 5, 6, 7, 8, 9 e 10.\n",
    "for i in range(1, 11):\n",
    "    \n",
    "    # 'print(i)' é a instrução dentro do laço que é executada para \n",
    "            # cada número na sequência gerada pelo 'range()'.\n",
    "    # A variável 'i' toma cada valor na sequência (de 1 a 10), um \n",
    "            # por vez, e o 'print()' imprime cada um desses valores.\n",
    "    print(i)"
   ]
  },
  {
   "cell_type": "code",
   "execution_count": null,
   "id": "1bf12cd9-877a-4f58-a85d-85bb5d0d1d3f",
   "metadata": {},
   "outputs": [],
   "source": []
  },
  {
   "cell_type": "code",
   "execution_count": 3,
   "id": "a25f23f1-1ccb-46ed-80b6-8b9db61c3154",
   "metadata": {},
   "outputs": [
    {
     "name": "stdout",
     "output_type": "stream",
     "text": [
      "2\n",
      "4\n",
      "6\n",
      "8\n",
      "10\n",
      "12\n",
      "14\n",
      "16\n",
      "18\n",
      "20\n"
     ]
    }
   ],
   "source": [
    "\"\"\"\n",
    "2. Imprimir números pares de 1 a 20\n",
    "\n",
    "Escreva um programa que use for para imprimir todos os números pares de 1 a 20.\n",
    "\"\"\"\n",
    "\n",
    "# O laço 'for' é iniciado com a função 'range()', que é usada aqui \n",
    "        # para gerar uma sequência de números pares.\n",
    "# 'range(2, 21, 2)' cria uma sequência começando em 2 e aumentando de \n",
    "        # dois em dois até chegar, mas não incluir, 21.\n",
    "# O primeiro parâmetro '2' é o ponto de partida, '21' é o limite \n",
    "        # superior exclusivo, e '2' é o passo, significando que se avança de 2 em 2.\n",
    "for i in range(2, 21, 2):\n",
    "    \n",
    "    # 'print(i)' é a instrução dentro do laço que é executada para \n",
    "            # cada número na sequência gerada pelo 'range()'.\n",
    "    print(i)"
   ]
  },
  {
   "cell_type": "code",
   "execution_count": null,
   "id": "80dc6e98-b212-4f50-8dc4-e8e68a990bf0",
   "metadata": {},
   "outputs": [],
   "source": []
  },
  {
   "cell_type": "code",
   "execution_count": 6,
   "id": "e8625e33-1b24-4e88-bc7c-6b76bda678fb",
   "metadata": {},
   "outputs": [
    {
     "name": "stdout",
     "output_type": "stream",
     "text": [
      "Soma de 1 a 100: 5050\n"
     ]
    }
   ],
   "source": [
    "\"\"\"\n",
    "3. Somar números de 1 a 100\n",
    "\n",
    "Use um laço for para somar todos os números de 1 a 100 e exibir o resultado.\n",
    "\"\"\"\n",
    "\n",
    "# A variável 'soma' é inicializada com o valor 0. Ela será \n",
    "        # usada para acumular a soma dos números de 1 a 100.\n",
    "soma = 0\n",
    "\n",
    "# O laço 'for' utiliza a função 'range(1, 101)' para gerar uma \n",
    "        # sequência de números de 1 a 100.\n",
    "# O número 1 é o início da sequência, e 101 é o limite que não é \n",
    "        # incluído na sequência, então o 'range' vai de 1 a 100.\n",
    "for i in range(1, 101):\n",
    "    \n",
    "    # Dentro do laço, cada número gerado pelo 'range()' é \n",
    "            # adicionado à variável 'soma'.\n",
    "    # 'soma += i' é equivalente a 'soma = soma + i', onde 'i' é o \n",
    "            # número atual na sequência de 1 a 100.\n",
    "    soma += i\n",
    "\n",
    "# Após o laço terminar, todos os números de 1 a 100 terão sido somados.\n",
    "# A linha a seguir imprime o resultado da soma.\n",
    "# 'print(\"Soma de 1 a 100:\", soma)' exibe a mensagem juntamente \n",
    "        # com o valor calculado de 'soma'.\n",
    "print(\"Soma de 1 a 100:\", soma)"
   ]
  },
  {
   "cell_type": "code",
   "execution_count": null,
   "id": "d51466f9-2ee6-4215-a0f1-6eea84650e01",
   "metadata": {},
   "outputs": [],
   "source": []
  },
  {
   "cell_type": "code",
   "execution_count": 7,
   "id": "c6efd25b-21d4-4bb8-90dd-5773ba167c5b",
   "metadata": {},
   "outputs": [
    {
     "name": "stdout",
     "output_type": "stream",
     "text": [
      "5\n",
      "10\n",
      "15\n",
      "20\n",
      "25\n"
     ]
    }
   ],
   "source": [
    "\"\"\"\n",
    "4. Imprimir os elementos de uma lista\n",
    "\n",
    "Dada uma lista de números [5, 10, 15, 20, 25], use um laço for \n",
    "para imprimir cada elemento.\n",
    "\"\"\"\n",
    "\n",
    "# Primeiramente, a lista 'lista' é definida com os \n",
    "        # números [5, 10, 15, 20, 25].\n",
    "# Estes números são os elementos que serão impressos individualmente.\n",
    "lista = [5, 10, 15, 20, 25]\n",
    "\n",
    "# O laço 'for' é usado para iterar sobre cada elemento da lista.\n",
    "# 'numero' é a variável de iteração que assume o valor de \n",
    "        # cada elemento da lista conforme o laço avança.\n",
    "# No primeiro ciclo, 'numero' será 5, no segundo será 10, e \n",
    "        # assim por diante até o último elemento, 25.\n",
    "for numero in lista:\n",
    "    \n",
    "    # 'print(numero)' é a instrução que imprime o valor atual de 'numero'.\n",
    "    # Como o laço percorre todos os elementos da lista, cada um \n",
    "            # deles é impresso na tela um após o outro.\n",
    "    print(numero)"
   ]
  },
  {
   "cell_type": "code",
   "execution_count": null,
   "id": "50bcc538-6cee-4ca4-af93-de15aa1d2238",
   "metadata": {},
   "outputs": [],
   "source": []
  },
  {
   "cell_type": "code",
   "execution_count": 16,
   "id": "2fc3aa84-5341-4bae-88d9-ffe4ef263dc6",
   "metadata": {},
   "outputs": [
    {
     "name": "stdin",
     "output_type": "stream",
     "text": [
      "Digite uma palavra:  Avestruz\n"
     ]
    },
    {
     "name": "stdout",
     "output_type": "stream",
     "text": [
      "A palavra 'Avestruz' tem 8 letras.\n"
     ]
    }
   ],
   "source": [
    "\"\"\"\n",
    "5. Contar letras em uma palavra\n",
    "\n",
    "Escreva um programa que use for para contar quantas \n",
    "letras há em uma palavra fornecida pelo usuário.\n",
    "\"\"\"\n",
    "\n",
    "# Solicita ao usuário que digite uma palavra e armazena \n",
    "        # essa entrada na variável 'palavra'.\n",
    "palavra = input(\"Digite uma palavra: \")\n",
    "\n",
    "# Inicializa a variável 'contador' com 0. Esta variável \n",
    "        # será usada para contar as letras na palavra.\n",
    "contador = 0\n",
    "\n",
    "# O laço 'for' é usado para iterar sobre cada letra na \n",
    "        # string armazenada em 'palavra'.\n",
    "# 'letra' é a variável de iteração que assume o valor de \n",
    "        # cada caractere na string 'palavra'.\n",
    "for letra in palavra:\n",
    "    \n",
    "    # Para cada iteração do laço, incrementa o 'contador' em 1.\n",
    "    # Isso é feito para cada letra encontrada na palavra.\n",
    "    contador += 1\n",
    "\n",
    "# Após o término do laço, a variável 'contador' contém o \n",
    "        # número total de letras na palavra.\n",
    "# Imprime uma mensagem formatada com o resultado.\n",
    "# A mensagem usa uma f-string para incluir a palavra original e \n",
    "        # o valor de 'contador' diretamente no texto.\n",
    "print(f\"A palavra '{palavra}' tem {contador} letras.\")"
   ]
  },
  {
   "cell_type": "code",
   "execution_count": null,
   "id": "5df9168b-d24d-4125-9a15-bdd27c56dee0",
   "metadata": {},
   "outputs": [],
   "source": []
  },
  {
   "cell_type": "code",
   "execution_count": 19,
   "id": "a28b7a6f-febf-45ae-83a7-2d60cf6f04e7",
   "metadata": {},
   "outputs": [
    {
     "name": "stdout",
     "output_type": "stream",
     "text": [
      "O número: 1 * 3 = 3\n",
      "O número: 2 * 3 = 6\n",
      "O número: 3 * 3 = 9\n",
      "O número: 4 * 3 = 12\n",
      "O número: 5 * 3 = 15\n"
     ]
    }
   ],
   "source": [
    "\"\"\"\n",
    "6. Multiplicação de cada número por 3\n",
    "\n",
    "Dada uma lista de números [1, 2, 3, 4, 5], use for \n",
    "para multiplicar cada número por 3 e imprimir o resultado.\n",
    "\"\"\"\n",
    "\n",
    "# Primeiro, define-se a lista 'lista' com os números [1, 2, 3, 4, 5].\n",
    "# Estes são os números que serão multiplicados por 3.\n",
    "lista = [1, 2, 3, 4, 5]\n",
    "\n",
    "# O laço 'for' é usado para iterar sobre cada elemento da lista.\n",
    "# 'numero' é a variável de iteração que assume o valor de \n",
    "        # cada elemento da lista conforme o laço avança.\n",
    "for numero in lista:\n",
    "    \n",
    "    # A cada iteração, o número atual 'numero' é multiplicado por 3.\n",
    "    # O resultado dessa multiplicação é então impresso diretamente.\n",
    "    # 'print(numero * 3)' calcula o triplo de 'numero' e exibe o resultado.\n",
    "    print(f\"O número: {numero} * 3 = {numero * 3}\")"
   ]
  },
  {
   "cell_type": "code",
   "execution_count": null,
   "id": "e47ebc6f-5b0b-41d4-aa6d-331629d3d882",
   "metadata": {},
   "outputs": [],
   "source": []
  },
  {
   "cell_type": "code",
   "execution_count": 2,
   "id": "2cb1a087-b901-4d65-b071-14c722cde35e",
   "metadata": {},
   "outputs": [
    {
     "name": "stdout",
     "output_type": "stream",
     "text": [
      "P\n",
      "y\n",
      "t\n",
      "h\n",
      "o\n",
      "n\n"
     ]
    }
   ],
   "source": [
    "\"\"\"\n",
    "7. Imprimir caracteres de uma string\n",
    "\n",
    "Dada a string \"Python\", use for para imprimir cada caractere separadamente.\n",
    "\"\"\"\n",
    "\n",
    "# A variável 'palavra' é definida com a string \"Python\".\n",
    "# Esta é a string cujos caracteres serão impressos um por um.\n",
    "palavra = \"Python\"\n",
    "\n",
    "# O laço 'for' é usado para iterar sobre cada caractere na string \n",
    "        # armazenada na variável 'palavra'.\n",
    "# 'letra' é a variável de iteração que assume o valor de cada \n",
    "        # caractere na string 'palavra' à medida que o laço avança.\n",
    "for letra in palavra:\n",
    "    \n",
    "    # Imprime o valor atual de 'letra', que é um caractere \n",
    "            # da string \"Python\".\n",
    "    # Cada execução do laço 'for' resulta em um caractere sendo impresso \n",
    "            # em uma nova linha devido ao comportamento padrão da função 'print()'.\n",
    "    print(letra)"
   ]
  },
  {
   "cell_type": "code",
   "execution_count": null,
   "id": "aecd3c12-4bed-4fc5-bb8b-ceb64d267f26",
   "metadata": {},
   "outputs": [],
   "source": []
  },
  {
   "cell_type": "code",
   "execution_count": 5,
   "id": "f10858a4-d3c0-4ad4-93f5-0e772e43cac4",
   "metadata": {},
   "outputs": [
    {
     "name": "stdout",
     "output_type": "stream",
     "text": [
      "O número: 2 é PAR.\n",
      "O número: 6 é PAR.\n",
      "O número: 8 é PAR.\n",
      "O número: 10 é PAR.\n",
      "O número: 12 é PAR.\n",
      "Existem 5 números pares na lista.\n"
     ]
    }
   ],
   "source": [
    "\"\"\"\n",
    "8. Contar números pares em uma lista\n",
    "\n",
    "Dada uma lista de números [2, 5, 6, 7, 8, 10, 12], use for \n",
    "para contar quantos números pares existem na lista.\n",
    "\"\"\"\n",
    "\n",
    "# Primeiro, define-se a lista 'lista' com os números [2, 5, 6, 7, 8, 10, 12].\n",
    "# Esta lista contém uma mistura de números pares e ímpares.\n",
    "lista = [2, 5, 6, 7, 8, 10, 12]\n",
    "\n",
    "# A variável 'pares' é inicializada com o valor 0.\n",
    "# Ela será usada para contar quantos números na lista são pares.\n",
    "pares = 0\n",
    "\n",
    "# O laço 'for' é usado para iterar sobre cada elemento da lista.\n",
    "# 'numero' é a variável de iteração que assume o valor de cada \n",
    "        # elemento na lista conforme o laço avança.\n",
    "for numero in lista:\n",
    "    \n",
    "    # Dentro do laço, há uma condição que verifica se o \n",
    "            # número atual é par.\n",
    "    # Isso é feito utilizando o operador módulo (%), que retorna o \n",
    "            # resto da divisão de 'numero' por 2.\n",
    "    # Se o resto é 0, então 'numero' é par.\n",
    "    if numero % 2 == 0:\n",
    "        \n",
    "        # Se o número é par, incrementa a variável 'pares' em 1.\n",
    "        # Isso é feito utilizando o operador '+=' para adicionar 1 \n",
    "                # ao valor atual de 'pares'.\n",
    "        pares += 1\n",
    "        print(f\"O número: {numero} é PAR.\")\n",
    "\n",
    "# Após o término do laço, todos os números da lista \n",
    "        # terão sido verificados.\n",
    "# Imprime o total de números pares encontrados na lista.\n",
    "# A mensagem usa uma f-string para incluir o valor de 'pares' \n",
    "        # diretamente no texto.\n",
    "print(f\"Existem {pares} números pares na lista.\")"
   ]
  },
  {
   "cell_type": "code",
   "execution_count": null,
   "id": "59bfb586-c538-4672-92d6-684f05401587",
   "metadata": {},
   "outputs": [],
   "source": []
  },
  {
   "cell_type": "code",
   "execution_count": 6,
   "id": "059cdbfa-c4dd-4e54-869f-9a483fefb296",
   "metadata": {},
   "outputs": [
    {
     "name": "stdout",
     "output_type": "stream",
     "text": [
      "1\n",
      "3\n",
      "5\n",
      "7\n",
      "9\n",
      "11\n",
      "13\n",
      "15\n",
      "17\n",
      "19\n"
     ]
    }
   ],
   "source": [
    "\"\"\"\n",
    "9. Imprimir números ímpares de 1 a 20\n",
    "\n",
    "Escreva um programa que use for para imprimir todos os números ímpares de 1 a 20.\n",
    "\"\"\"\n",
    "\n",
    "# Utiliza a função 'range()' com três parâmetros para gerar \n",
    "        # uma sequência de números ímpares.\n",
    "# O primeiro parâmetro '1' é o ponto de partida, '21' é o \n",
    "        # limite que não é incluído na sequência,\n",
    "        # e '2' é o passo, que determina o incremento entre \n",
    "        # os números na sequência.\n",
    "for i in range(1, 21, 2):\n",
    "    \n",
    "    # Imprime o valor atual de 'i', que neste contexto será \n",
    "            # sempre um número ímpar.\n",
    "    # O laço 'for' inicia em 1 e incrementa por 2 cada vez, resultando \n",
    "            # nos números 1, 3, 5, 7, 9, 11, 13, 15, 17, 19.\n",
    "    print(i)"
   ]
  },
  {
   "cell_type": "code",
   "execution_count": null,
   "id": "c8c27c76-d6bf-43b8-b61e-e6d299c9b0ca",
   "metadata": {},
   "outputs": [],
   "source": []
  },
  {
   "cell_type": "code",
   "execution_count": 14,
   "id": "b1ac6de4-4fd2-4d96-b7d6-121ea20ab905",
   "metadata": {},
   "outputs": [
    {
     "name": "stdin",
     "output_type": "stream",
     "text": [
      "Digite um número:  10\n"
     ]
    },
    {
     "name": "stdout",
     "output_type": "stream",
     "text": [
      "Fatorial de 1 é 1\n",
      "Fatorial de 2 é 2\n",
      "Fatorial de 3 é 6\n",
      "Fatorial de 4 é 24\n",
      "Fatorial de 5 é 120\n",
      "Fatorial de 6 é 720\n",
      "Fatorial de 7 é 5040\n",
      "Fatorial de 8 é 40320\n",
      "Fatorial de 9 é 362880\n",
      "Fatorial de 10 é 3628800\n",
      "Fatorial de 10 é 3628800\n"
     ]
    }
   ],
   "source": [
    "\"\"\"\n",
    "10. Cálculo fatorial de um número\n",
    "\n",
    "Escreva um programa que calcule o fatorial de um número \n",
    "        fornecido pelo usuário usando for.\n",
    "\n",
    "        5 = 1 x 2 x 3 x 4 x 5 = 120\n",
    "\"\"\"\n",
    "\n",
    "# Solicita ao usuário que digite um número e armazena esse \n",
    "        # valor na variável 'numero'.\n",
    "# A função 'int()' é usada para converter a entrada, que é \n",
    "        # recebida como uma string, para um inteiro.\n",
    "numero = int(input(\"Digite um número: \"))\n",
    "\n",
    "# Inicializa a variável 'fatorial' com o valor 1.\n",
    "# O fatorial de um número é o produto de todos os inteiros \n",
    "        # positivos até esse número.\n",
    "# Iniciar com 1 é essencial, pois é o elemento neutro \n",
    "        # da multiplicação.\n",
    "fatorial = 1\n",
    "\n",
    "# Utiliza um laço 'for' para iterar sobre uma sequência de \n",
    "        # números de 1 até 'numero' inclusive.\n",
    "# A função 'range(1, numero + 1)' gera essa sequência, \n",
    "        # começando em 1 e indo até 'numero'.\n",
    "for i in range(1, numero + 1):\n",
    "    \n",
    "    # Multiplica a variável 'fatorial' pelo número atual 'i' \n",
    "            # em cada iteração do laço.\n",
    "    # O operador '*=' é um atalho para 'fatorial = fatorial * i'.\n",
    "    fatorial *= i\n",
    "    print(f\"Fatorial de {i} é {fatorial}\")\n",
    "\n",
    "# Após o término do laço, a variável 'fatorial' contém o valor \n",
    "        # do fatorial do número.\n",
    "# Imprime o resultado usando uma f-string que permite inserir \n",
    "        # variáveis diretamente dentro da string para formatação.\n",
    "print(f\"Fatorial de {numero} é {fatorial}\")"
   ]
  },
  {
   "cell_type": "code",
   "execution_count": null,
   "id": "39b2674a-f8d6-418c-9ccc-3bb2a3469b42",
   "metadata": {},
   "outputs": [],
   "source": []
  },
  {
   "cell_type": "code",
   "execution_count": 32,
   "id": "e17d62d7-4282-4b0e-91a2-e22319175c49",
   "metadata": {},
   "outputs": [
    {
     "name": "stdin",
     "output_type": "stream",
     "text": [
      "Digite um número:  5\n"
     ]
    },
    {
     "name": "stdout",
     "output_type": "stream",
     "text": [
      "5 é primo\n"
     ]
    }
   ],
   "source": [
    "\"\"\"\n",
    "11. Verificar se um número é primo\n",
    "\n",
    "Escreva um programa que verifique se um número fornecido pelo usuário é primo.\n",
    "\"\"\"\n",
    "\n",
    "# Solicita ao usuário que digite um número e armazena esse \n",
    "        # valor na variável 'numero'.\n",
    "# A função 'int()' é usada para converter a entrada, que é \n",
    "        # recebida como uma string, para um inteiro.\n",
    "numero = int(input(\"Digite um número: \"))\n",
    "\n",
    "# Inicializa a variável 'primo' com o valor True.\n",
    "# Esta variável será usada como um indicador para determinar \n",
    "        # se o número é primo ou não.\n",
    "primo = True\n",
    "\n",
    "# Utiliza um laço 'for' para iterar sobre uma sequência de \n",
    "        # números de 2 até 'numero'.\n",
    "# A função 'range(2, numero)' gera essa sequência, começando \n",
    "        # em 2 e indo até 'numero' (exclusivo),\n",
    "# pois um número primo é um número maior que 1 que não é divisível \n",
    "        # por qualquer outro número que não seja 1 e ele mesmo.\n",
    "for i in range(2, numero):\n",
    "    \n",
    "    # Verifica se 'numero' é divisível por 'i'.\n",
    "    # O operador '%' retorna o resto da divisão de 'numero' por 'i'.\n",
    "    # Se o resto é 0, então 'numero' é divisível por 'i', e \n",
    "            # não é um número primo.\n",
    "    if numero % i == 0:\n",
    "\n",
    "        # Define 'primo' como False indicando que 'numero' \n",
    "                # não é um número primo.\n",
    "        primo = False\n",
    "\n",
    "        # Sai do laço imediatamente, pois não é necessário \n",
    "                # continuar as verificações.\n",
    "        break  \n",
    "\n",
    "# Após o laço, verifica o valor da variável 'primo'.\n",
    "# Se 'primo' ainda é True, então o número passou pelo laço sem \n",
    "        # encontrar divisores além de 1 e ele mesmo.\n",
    "if primo:\n",
    "    \n",
    "    # Imprime que o número é primo.\n",
    "    print(f\"{numero} é primo\")\n",
    "    \n",
    "else:\n",
    "    \n",
    "    # Se 'primo' é False, então o número é divisível por algum \n",
    "            # número além de 1 e ele mesmo, portanto, não é primo.\n",
    "    print(f\"{numero} não é primo\")"
   ]
  },
  {
   "cell_type": "code",
   "execution_count": null,
   "id": "be55081b-4718-41e0-b6c4-c5ec6325a09d",
   "metadata": {},
   "outputs": [],
   "source": []
  },
  {
   "cell_type": "code",
   "execution_count": 35,
   "id": "422e96c9-4db8-416a-b947-51ad71cc5214",
   "metadata": {},
   "outputs": [
    {
     "name": "stdin",
     "output_type": "stream",
     "text": [
      "Digite o valor multiplicador:  3\n"
     ]
    },
    {
     "name": "stdout",
     "output_type": "stream",
     "text": [
      "Nova lista: [6, 12, 18, 24, 30]\n"
     ]
    }
   ],
   "source": [
    "\"\"\"\n",
    "12. Multiplicar todos os elementos de uma lista por um valor fornecido\n",
    "\n",
    "Dada uma lista de números, multiplique cada elemento por um \n",
    "valor fornecido pelo usuário e armazene o resultado em uma nova lista.\n",
    "\n",
    "lista = [2, 4, 5, 8, 10]\n",
    "\"\"\"\n",
    "\n",
    "# Define a lista original com os números [2, 4, 6, 8, 10].\n",
    "# Esta é a lista cujos elementos serão multiplicados pelo \n",
    "        # valor fornecido pelo usuário.\n",
    "lista = [2, 4, 6, 8, 10]\n",
    "\n",
    "# Solicita ao usuário que digite um valor multiplicador e \n",
    "        # armazena esse valor na variável 'fator'.\n",
    "# A função 'int()' é usada para converter a entrada, que é \n",
    "        # recebida como uma string, para um inteiro.\n",
    "fator = int(input(\"Digite o valor multiplicador: \"))\n",
    "\n",
    "# Utiliza uma compreensão de lista para criar uma nova lista com os \n",
    "        # resultados da multiplicação de cada elemento por 'fator'.\n",
    "# 'numero * fator' é a expressão que multiplica cada 'numero' \n",
    "        # na 'lista' original pelo 'fator' especificado.\n",
    "# '[numero * fator for numero in lista]' itera sobre cada 'numero' \n",
    "        # em 'lista', multiplica por 'fator' e coleta os \n",
    "        # resultados em 'nova_lista'.\n",
    "nova_lista = [numero * fator for numero in lista]\n",
    "\n",
    "# Imprime a nova lista com os resultados da multiplicação.\n",
    "# 'print(\"Nova lista:\", nova_lista)' exibe a mensagem \"Nova lista:\" \n",
    "        # seguida pela lista de números multiplicados.\n",
    "print(\"Nova lista:\", nova_lista)"
   ]
  },
  {
   "cell_type": "code",
   "execution_count": null,
   "id": "64193a30-f6ab-4e04-908a-9eba03ced4a2",
   "metadata": {},
   "outputs": [],
   "source": []
  },
  {
   "cell_type": "code",
   "execution_count": 38,
   "id": "0fb5c2cd-e6a1-4131-8e0c-3ae25b6ba96f",
   "metadata": {},
   "outputs": [
    {
     "name": "stdin",
     "output_type": "stream",
     "text": [
      "Digite uma frase:  Isso muito facil\n"
     ]
    },
    {
     "name": "stdout",
     "output_type": "stream",
     "text": [
      "Total de vogais: 7\n"
     ]
    }
   ],
   "source": [
    "\"\"\"\n",
    "13. Contagem de vogais em uma frase\n",
    "\n",
    "Dada uma frase fornecida pelo usuário, use for para contar \n",
    "quantas vogais (a, e, i, o, u) existem na frase.\n",
    "\"\"\"\n",
    "\n",
    "# Solicita ao usuário que digite uma frase e converte toda a \n",
    "        # frase para letras minúsculas usando 'lower()'.\n",
    "# Isso uniformiza a frase para facilitar a comparação com as \n",
    "        # vogais, que estão listadas apenas em minúsculas.\n",
    "frase = input(\"Digite uma frase: \").lower()\n",
    "\n",
    "# Define uma string 'vogais' contendo todas as vogais minúsculas.\n",
    "# Esta string será usada para verificar se um caractere é uma vogal.\n",
    "vogais = \"aeiou\"\n",
    "\n",
    "# Inicializa a variável 'contador_vogais' com 0.\n",
    "# Esta variável será usada para contar o número \n",
    "        # de vogais na frase.\n",
    "contador_vogais = 0\n",
    "\n",
    "# Utiliza um laço 'for' para iterar sobre cada caractere na frase.\n",
    "# 'letra' é a variável de iteração que assume o \n",
    "        # valor de cada caractere na 'frase'.\n",
    "for letra in frase:\n",
    "    \n",
    "    # Verifica se o caractere atual 'letra' está contido na string 'vogais'.\n",
    "    # 'if letra in vogais' é verdadeiro se 'letra' for uma vogal.\n",
    "    if letra in vogais:\n",
    "        \n",
    "        # Se 'letra' for uma vogal, incrementa 'contador_vogais' em 1.\n",
    "        # O operador '+=' é um atalho para 'contador_vogais = contador_vogais + 1'.\n",
    "        contador_vogais += 1\n",
    "\n",
    "# Após o término do laço, 'contador_vogais' contém o total de \n",
    "        # vogais encontradas na frase.\n",
    "# Imprime o total de vogais na frase usando uma f-string para \n",
    "        # inserir o valor diretamente no texto.\n",
    "print(f\"Total de vogais: {contador_vogais}\")"
   ]
  },
  {
   "cell_type": "code",
   "execution_count": null,
   "id": "edc6683b-b05c-4d01-8cb6-5222d813612f",
   "metadata": {},
   "outputs": [],
   "source": []
  },
  {
   "cell_type": "code",
   "execution_count": 39,
   "id": "c1d2f9bf-a7e2-4d13-99a5-8e5ed0609acd",
   "metadata": {},
   "outputs": [
    {
     "name": "stdout",
     "output_type": "stream",
     "text": [
      "Lista ordenada: [10, 13, 14, 29, 37]\n"
     ]
    }
   ],
   "source": [
    "\"\"\"\n",
    "14. Ordenar uma lista manualmente\n",
    "\n",
    "Escreva um programa que use for para ordenar uma lista de \n",
    "        números sem usar a função sort().\n",
    "\"\"\"\n",
    "\n",
    "# Define a lista 'lista' com os números [29, 10, 14, 37, 13].\n",
    "# Esta é a lista que será ordenada manualmente.\n",
    "lista = [29, 10, 14, 37, 13]\n",
    "\n",
    "# Utiliza um laço 'for' externo para iterar sobre cada elemento da lista.\n",
    "# 'i' é a variável de índice que começa de 0 e vai até o \n",
    "        # penúltimo elemento da lista.\n",
    "for i in range(len(lista)):\n",
    "    \n",
    "    # Utiliza um laço 'for' interno para comparar o elemento \n",
    "            # atual com todos os elementos seguintes na lista.\n",
    "    # 'j' é a variável de índice que começa de 'i+1' (elemento \n",
    "            # seguinte ao 'i') e vai até o último elemento da lista.\n",
    "    for j in range(i + 1, len(lista)):\n",
    "        \n",
    "        # Verifica se o elemento na posição 'i' é maior que o \n",
    "                # elemento na posição 'j'.\n",
    "        # Se 'lista[i] > lista[j]', significa que os elementos estão \n",
    "                # na ordem incorreta e precisam ser trocados.\n",
    "        if lista[i] > lista[j]:\n",
    "            \n",
    "            # Troca os elementos de posição usando desempacotamento de tuplas.\n",
    "            # 'lista[i], lista[j] = lista[j], lista[i]' efetivamente \n",
    "                    # coloca o menor elemento na posição 'i' e o maior na posição 'j'.\n",
    "            lista[i], lista[j] = lista[j], lista[i]\n",
    "\n",
    "# Após todos os laços terminarem, a lista está ordenada de forma crescente.\n",
    "# Imprime a lista ordenada usando a função 'print()'.\n",
    "# A mensagem \"Lista ordenada:\" é seguida pela lista agora ordenada.\n",
    "print(\"Lista ordenada:\", lista)"
   ]
  },
  {
   "cell_type": "code",
   "execution_count": null,
   "id": "49502568-8769-492a-9eaf-a3760c605ef3",
   "metadata": {},
   "outputs": [],
   "source": []
  },
  {
   "cell_type": "code",
   "execution_count": 43,
   "id": "4563c338-9adb-49a3-a362-9c2f618f5272",
   "metadata": {},
   "outputs": [
    {
     "name": "stdin",
     "output_type": "stream",
     "text": [
      "Digite uma palavra:  arara\n"
     ]
    },
    {
     "name": "stdout",
     "output_type": "stream",
     "text": [
      "'arara' é um palíndromo.\n"
     ]
    }
   ],
   "source": [
    "\"\"\"\n",
    "15. Verificar palíndromo\n",
    "\n",
    "Escreva um programa que use for para verificar se uma palavra fornecida \n",
    "pelo usuário é um palíndromo (lê-se da mesma forma de trás para frente).\n",
    "\"\"\"\n",
    "\n",
    "# Solicita ao usuário que digite uma palavra e armazena \n",
    "        # essa entrada na variável 'palavra'.\n",
    "# O método 'lower()' é aplicado para converter toda a \n",
    "        # palavra em letras minúsculas.\n",
    "# Isso garante que a comparação de caracteres seja insensível a \n",
    "        # maiúsculas e minúsculas, tratando 'Ana' como 'ana'.\n",
    "palavra = input(\"Digite uma palavra: \").lower()\n",
    "\n",
    "# Inicializa a variável 'palindromo' como True.\n",
    "# Esta variável será usada como um indicador para determinar \n",
    "        # se a palavra é um palíndromo.\n",
    "palindromo = True\n",
    "\n",
    "# Utiliza um laço 'for' para iterar sobre a palavra.\n",
    "# 'range(len(palavra))' gera uma sequência de índices da \n",
    "        # palavra, de 0 até o comprimento da palavra.\n",
    "for i in range(len(palavra)):\n",
    "    \n",
    "    # Compara o caractere na posição 'i' com o caractere na \n",
    "            # posição oposta '-(i + 1)'.\n",
    "    # O índice '-(i + 1)' traduz-se em começar do final da \n",
    "            # palavra e mover-se para a frente.\n",
    "    # Por exemplo, para 'ana', i=0 compara 'a' (frente) \n",
    "            # com 'a' (trás), e assim por diante.\n",
    "    if palavra[i] != palavra[-(i + 1)]:\n",
    "        \n",
    "        # Se algum par de caracteres não corresponder, \n",
    "                # define 'palindromo' como False.\n",
    "        # Isso indica que a palavra não é um palíndromo.\n",
    "        palindromo = False\n",
    "        \n",
    "        # Interrompe o laço imediatamente se uma discrepância \n",
    "                # for encontrada, otimizando o processo.\n",
    "        break\n",
    "\n",
    "# Após o laço, verifica o valor da variável 'palindromo'.\n",
    "if palindromo:\n",
    "    \n",
    "    # Se 'palindromo' ainda for True, então nenhum par \n",
    "            # de caracteres foi discordante.\n",
    "    # Imprime que a palavra é um palíndromo.\n",
    "    print(f\"'{palavra}' é um palíndromo.\")\n",
    "    \n",
    "else:\n",
    "    \n",
    "    # Se 'palindromo' for False, então a palavra não é um palíndromo.\n",
    "    # Imprime que a palavra não é um palíndromo.\n",
    "    print(f\"'{palavra}' não é um palíndromo.\")"
   ]
  },
  {
   "cell_type": "code",
   "execution_count": null,
   "id": "61f2e8a7-1ae9-456b-b6cd-ff5b9135b8df",
   "metadata": {},
   "outputs": [],
   "source": []
  }
 ],
 "metadata": {
  "kernelspec": {
   "display_name": "Python 3 (ipykernel)",
   "language": "python",
   "name": "python3"
  },
  "language_info": {
   "codemirror_mode": {
    "name": "ipython",
    "version": 3
   },
   "file_extension": ".py",
   "mimetype": "text/x-python",
   "name": "python",
   "nbconvert_exporter": "python",
   "pygments_lexer": "ipython3",
   "version": "3.11.7"
  }
 },
 "nbformat": 4,
 "nbformat_minor": 5
}
